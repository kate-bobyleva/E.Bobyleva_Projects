{
 "cells": [
  {
   "cell_type": "markdown",
   "id": "62986e7a",
   "metadata": {
    "toc": true
   },
   "source": [
    "<h1>Table of Contents<span class=\"tocSkip\"></span></h1>\n",
    "<div class=\"toc\"><ul class=\"toc-item\"><li><span><a href=\"#Описание-проекта\" data-toc-modified-id=\"Описание-проекта-1\"><span class=\"toc-item-num\">1&nbsp;&nbsp;</span>Описание проекта</a></span></li><li><span><a href=\"#Обзор-и-подготовка-данных\" data-toc-modified-id=\"Обзор-и-подготовка-данных-2\"><span class=\"toc-item-num\">2&nbsp;&nbsp;</span>Обзор и подготовка данных</a></span><ul class=\"toc-item\"><li><span><a href=\"#Первичный-обзор\" data-toc-modified-id=\"Первичный-обзор-2.1\"><span class=\"toc-item-num\">2.1&nbsp;&nbsp;</span>Первичный обзор</a></span></li><li><span><a href=\"#Удаление-дубликатов\" data-toc-modified-id=\"Удаление-дубликатов-2.2\"><span class=\"toc-item-num\">2.2&nbsp;&nbsp;</span>Удаление дубликатов</a></span></li><li><span><a href=\"#Изменение-названий-столбцов\" data-toc-modified-id=\"Изменение-названий-столбцов-2.3\"><span class=\"toc-item-num\">2.3&nbsp;&nbsp;</span>Изменение названий столбцов</a></span></li><li><span><a href=\"#Работа-с-датой\" data-toc-modified-id=\"Работа-с-датой-2.4\"><span class=\"toc-item-num\">2.4&nbsp;&nbsp;</span>Работа с датой</a></span></li><li><span><a href=\"#Обзор-уникальных-значений\" data-toc-modified-id=\"Обзор-уникальных-значений-2.5\"><span class=\"toc-item-num\">2.5&nbsp;&nbsp;</span>Обзор уникальных значений</a></span></li></ul></li><li><span><a href=\"#Анализ-данных\" data-toc-modified-id=\"Анализ-данных-3\"><span class=\"toc-item-num\">3&nbsp;&nbsp;</span>Анализ данных</a></span><ul class=\"toc-item\"><li><span><a href=\"#Изучение-количества-событий-и-пользователей-в-логе\" data-toc-modified-id=\"Изучение-количества-событий-и-пользователей-в-логе-3.1\"><span class=\"toc-item-num\">3.1&nbsp;&nbsp;</span>Изучение количества событий и пользователей в логе</a></span></li><li><span><a href=\"#Период-данных\" data-toc-modified-id=\"Период-данных-3.2\"><span class=\"toc-item-num\">3.2&nbsp;&nbsp;</span>Период данных</a></span></li></ul></li><li><span><a href=\"#Воронка-событий\" data-toc-modified-id=\"Воронка-событий-4\"><span class=\"toc-item-num\">4&nbsp;&nbsp;</span>Воронка событий</a></span><ul class=\"toc-item\"><li><span><a href=\"#События-в-логах\" data-toc-modified-id=\"События-в-логах-4.1\"><span class=\"toc-item-num\">4.1&nbsp;&nbsp;</span>События в логах</a></span></li><li><span><a href=\"#Воронка-событий\" data-toc-modified-id=\"Воронка-событий-4.2\"><span class=\"toc-item-num\">4.2&nbsp;&nbsp;</span>Воронка событий</a></span></li></ul></li><li><span><a href=\"#Результаты-эксперимента\" data-toc-modified-id=\"Результаты-эксперимента-5\"><span class=\"toc-item-num\">5&nbsp;&nbsp;</span>Результаты эксперимента</a></span><ul class=\"toc-item\"><li><span><a href=\"#Количество-пользователей-в-каждой-группе\" data-toc-modified-id=\"Количество-пользователей-в-каждой-группе-5.1\"><span class=\"toc-item-num\">5.1&nbsp;&nbsp;</span>Количество пользователей в каждой группе</a></span></li><li><span><a href=\"#Проверка-различия-между-группами-А/А\" data-toc-modified-id=\"Проверка-различия-между-группами-А/А-5.2\"><span class=\"toc-item-num\">5.2&nbsp;&nbsp;</span>Проверка различия между группами А/А</a></span></li><li><span><a href=\"#Проверка-различия-между-группами-А/А-и-B\" data-toc-modified-id=\"Проверка-различия-между-группами-А/А-и-B-5.3\"><span class=\"toc-item-num\">5.3&nbsp;&nbsp;</span>Проверка различия между группами А/А и B</a></span></li><li><span><a href=\"#Уровень-статистической-значимости\" data-toc-modified-id=\"Уровень-статистической-значимости-5.4\"><span class=\"toc-item-num\">5.4&nbsp;&nbsp;</span>Уровень статистической значимости</a></span></li></ul></li><li><span><a href=\"#Выводы-и-рекомендации\" data-toc-modified-id=\"Выводы-и-рекомендации-6\"><span class=\"toc-item-num\">6&nbsp;&nbsp;</span>Выводы и рекомендации</a></span></li></ul></div>"
   ]
  },
  {
   "cell_type": "markdown",
   "id": "2bafaa6b",
   "metadata": {
    "id": "2bafaa6b"
   },
   "source": [
    "# Исследование поведения пользователей и результатов эксперимента в мобильном приложении по продаже продуктов питания"
   ]
  },
  {
   "cell_type": "markdown",
   "id": "27e33bae",
   "metadata": {
    "id": "27e33bae"
   },
   "source": [
    "## Описание проекта"
   ]
  },
  {
   "cell_type": "markdown",
   "id": "0fc55f77",
   "metadata": {
    "id": "0fc55f77"
   },
   "source": [
    "В работе необходимо изучить поведение пользователей мобильного приложения одного стартапа по продаже продуктов питания.\n",
    "\n",
    "Для этого нужно изучить воронку продаж, сколько пользователей проходят определённые шаги в приложении и доходят до оплаты.\n",
    "\n",
    "Кроме того, имеются данные о поведении потребителей в ходе A/A/B-эксперимента по изменению шрифтов в приложении. \n",
    "Все пользователи за некий период были поделены на две контрольные группы (без нововведений) и одну экспериментальную группу (с новыми шрифтами в приложении). Нужно проанализировать результаты этого эксперимента и выяснить какой шрифт лучше."
   ]
  },
  {
   "cell_type": "markdown",
   "id": "c26537d5",
   "metadata": {
    "id": "c26537d5"
   },
   "source": [
    "**План работы:**\n",
    "\n",
    "I. Предобработка и первичный обзор имеющихся данных.\n",
    "\n",
    "II. Анализ данных.\n",
    "\n",
    "1. Обзор событий и пользователей в логе.\n",
    "2. Обзор периода данных.\n",
    "\n",
    "III. Изучение воронки событий.\n",
    "\n",
    "IV. Изучение результатов A/A/B-эксперимента.\n",
    "1. Проверка корректности деления трафика.\n",
    "2. Анализ результатов теста.\n",
    "\n",
    "V. Выводы и рекомендации."
   ]
  },
  {
   "cell_type": "markdown",
   "id": "76b4e329",
   "metadata": {
    "id": "76b4e329"
   },
   "source": [
    "**Описание данных**:\n",
    "\n",
    "Имеется датасет logs_exp , где каждая запись в логе — это действие пользователя, или событие.\n",
    "\n",
    "* EventName — название события;\n",
    "* DeviceIDHash — уникальный идентификатор пользователя;\n",
    "* EventTimestamp — время события;\n",
    "* ExpId — номер эксперимента: 246 и 247 — контрольные группы, а 248 — экспериментальная."
   ]
  },
  {
   "cell_type": "markdown",
   "id": "11a8eaff",
   "metadata": {
    "id": "11a8eaff"
   },
   "source": [
    "## Обзор и подготовка данных"
   ]
  },
  {
   "cell_type": "code",
   "execution_count": 1,
   "id": "6423273b",
   "metadata": {
    "id": "6423273b"
   },
   "outputs": [],
   "source": [
    "import pandas as pd\n",
    "import datetime as dt\n",
    "\n",
    "import matplotlib.pyplot as plt\n",
    "from plotly import graph_objects as go\n",
    "import seaborn as sns\n",
    "import plotly.express as px\n",
    "\n",
    "from scipy import stats as st\n",
    "import numpy as np\n",
    "import math as mth\n",
    "\n",
    "import os\n",
    "import warnings\n",
    "warnings.simplefilter('ignore')\n",
    "pd.set_option('display.float_format', '{:,.2f}'.format)"
   ]
  },
  {
   "cell_type": "code",
   "execution_count": 2,
   "id": "4096351e",
   "metadata": {
    "id": "4096351e"
   },
   "outputs": [],
   "source": [
    "pth1 = '/datasets/logs_exp.csv'\n",
    "pth2 = 'logs_exp.csv'\n",
    "\n",
    "if os.path.exists(pth1):\n",
    "    data = pd.read_csv(pth1, sep='\\t')\n",
    "elif os.path.exists(pth2):\n",
    "    data = pd.read_csv(pth2, sep='\\t')\n",
    "else:\n",
    "    print('Something is wrong')"
   ]
  },
  {
   "cell_type": "markdown",
   "id": "f603cf6a",
   "metadata": {},
   "source": [
    "### Первичный обзор"
   ]
  },
  {
   "cell_type": "code",
   "execution_count": 3,
   "id": "bf798362",
   "metadata": {},
   "outputs": [],
   "source": [
    "# создаём функцию для вывода инфо о датафрейме \n",
    "def df_first_look(dataframe):\n",
    "    \n",
    "    print('\\033[1m' + 'Примеры строк датафрейма:' + '\\033[0m')\n",
    "    display(dataframe.sample(5))\n",
    "    \n",
    "    print('\\033[1m' + 'Общая информация:' + '\\033[0m')\n",
    "    display(dataframe.info())\n",
    "    \n",
    "    _ = dataframe.duplicated().sum()\n",
    "    print('\\033[1m' + 'Явных дубликатов: ' + '\\033[0m' + f'{_}.')\n",
    "    print('\\033[1m' + 'Доля дубликатов в датафрейме: ' + '\\033[0m' + f'{round(_/len(dataframe) * 100, 2)}%.')\n",
    "    print()\n",
    "    \n",
    "    print('\\033[1m' + 'Количество пропусков в датафрейме:' + '\\033[0m')\n",
    "    display(pd.concat([dataframe.isna().sum(), dataframe.isna().mean()], axis=1) \\\n",
    "    .rename(columns={0:'кол-во', 1:'доля'}) \\\n",
    "    .style.format({'кол-во':'{:.0f}', 'доля':'{:.2%}'}))\n",
    "    \n",
    "    print('\\033[1m' + 'Статистические данные:' + '\\033[0m')\n",
    "    display(dataframe.describe())"
   ]
  },
  {
   "cell_type": "code",
   "execution_count": 4,
   "id": "10df98c6",
   "metadata": {
    "scrolled": false
   },
   "outputs": [
    {
     "name": "stdout",
     "output_type": "stream",
     "text": [
      "\u001b[1mПримеры строк датафрейма:\u001b[0m\n"
     ]
    },
    {
     "data": {
      "text/html": [
       "<div>\n",
       "<style scoped>\n",
       "    .dataframe tbody tr th:only-of-type {\n",
       "        vertical-align: middle;\n",
       "    }\n",
       "\n",
       "    .dataframe tbody tr th {\n",
       "        vertical-align: top;\n",
       "    }\n",
       "\n",
       "    .dataframe thead th {\n",
       "        text-align: right;\n",
       "    }\n",
       "</style>\n",
       "<table border=\"1\" class=\"dataframe\">\n",
       "  <thead>\n",
       "    <tr style=\"text-align: right;\">\n",
       "      <th></th>\n",
       "      <th>EventName</th>\n",
       "      <th>DeviceIDHash</th>\n",
       "      <th>EventTimestamp</th>\n",
       "      <th>ExpId</th>\n",
       "    </tr>\n",
       "  </thead>\n",
       "  <tbody>\n",
       "    <tr>\n",
       "      <th>205102</th>\n",
       "      <td>OffersScreenAppear</td>\n",
       "      <td>3964570409405745290</td>\n",
       "      <td>1565111304</td>\n",
       "      <td>246</td>\n",
       "    </tr>\n",
       "    <tr>\n",
       "      <th>22059</th>\n",
       "      <td>MainScreenAppear</td>\n",
       "      <td>1447957581500376117</td>\n",
       "      <td>1564667197</td>\n",
       "      <td>248</td>\n",
       "    </tr>\n",
       "    <tr>\n",
       "      <th>235639</th>\n",
       "      <td>MainScreenAppear</td>\n",
       "      <td>3863873029567317821</td>\n",
       "      <td>1565193667</td>\n",
       "      <td>248</td>\n",
       "    </tr>\n",
       "    <tr>\n",
       "      <th>181662</th>\n",
       "      <td>MainScreenAppear</td>\n",
       "      <td>6874363509598691386</td>\n",
       "      <td>1565071289</td>\n",
       "      <td>247</td>\n",
       "    </tr>\n",
       "    <tr>\n",
       "      <th>235268</th>\n",
       "      <td>CartScreenAppear</td>\n",
       "      <td>4438811436010620371</td>\n",
       "      <td>1565193164</td>\n",
       "      <td>247</td>\n",
       "    </tr>\n",
       "  </tbody>\n",
       "</table>\n",
       "</div>"
      ],
      "text/plain": [
       "                 EventName         DeviceIDHash  EventTimestamp  ExpId\n",
       "205102  OffersScreenAppear  3964570409405745290      1565111304    246\n",
       "22059     MainScreenAppear  1447957581500376117      1564667197    248\n",
       "235639    MainScreenAppear  3863873029567317821      1565193667    248\n",
       "181662    MainScreenAppear  6874363509598691386      1565071289    247\n",
       "235268    CartScreenAppear  4438811436010620371      1565193164    247"
      ]
     },
     "metadata": {},
     "output_type": "display_data"
    },
    {
     "name": "stdout",
     "output_type": "stream",
     "text": [
      "\u001b[1mОбщая информация:\u001b[0m\n",
      "<class 'pandas.core.frame.DataFrame'>\n",
      "RangeIndex: 244126 entries, 0 to 244125\n",
      "Data columns (total 4 columns):\n",
      " #   Column          Non-Null Count   Dtype \n",
      "---  ------          --------------   ----- \n",
      " 0   EventName       244126 non-null  object\n",
      " 1   DeviceIDHash    244126 non-null  int64 \n",
      " 2   EventTimestamp  244126 non-null  int64 \n",
      " 3   ExpId           244126 non-null  int64 \n",
      "dtypes: int64(3), object(1)\n",
      "memory usage: 7.5+ MB\n"
     ]
    },
    {
     "data": {
      "text/plain": [
       "None"
      ]
     },
     "metadata": {},
     "output_type": "display_data"
    },
    {
     "name": "stdout",
     "output_type": "stream",
     "text": [
      "\u001b[1mЯвных дубликатов: \u001b[0m413.\n",
      "\u001b[1mДоля дубликатов в датафрейме: \u001b[0m0.17%.\n",
      "\n",
      "\u001b[1mКоличество пропусков в датафрейме:\u001b[0m\n"
     ]
    },
    {
     "data": {
      "text/html": [
       "<style type=\"text/css\">\n",
       "</style>\n",
       "<table id=\"T_8e12b_\">\n",
       "  <thead>\n",
       "    <tr>\n",
       "      <th class=\"blank level0\" >&nbsp;</th>\n",
       "      <th class=\"col_heading level0 col0\" >кол-во</th>\n",
       "      <th class=\"col_heading level0 col1\" >доля</th>\n",
       "    </tr>\n",
       "  </thead>\n",
       "  <tbody>\n",
       "    <tr>\n",
       "      <th id=\"T_8e12b_level0_row0\" class=\"row_heading level0 row0\" >EventName</th>\n",
       "      <td id=\"T_8e12b_row0_col0\" class=\"data row0 col0\" >0</td>\n",
       "      <td id=\"T_8e12b_row0_col1\" class=\"data row0 col1\" >0.00%</td>\n",
       "    </tr>\n",
       "    <tr>\n",
       "      <th id=\"T_8e12b_level0_row1\" class=\"row_heading level0 row1\" >DeviceIDHash</th>\n",
       "      <td id=\"T_8e12b_row1_col0\" class=\"data row1 col0\" >0</td>\n",
       "      <td id=\"T_8e12b_row1_col1\" class=\"data row1 col1\" >0.00%</td>\n",
       "    </tr>\n",
       "    <tr>\n",
       "      <th id=\"T_8e12b_level0_row2\" class=\"row_heading level0 row2\" >EventTimestamp</th>\n",
       "      <td id=\"T_8e12b_row2_col0\" class=\"data row2 col0\" >0</td>\n",
       "      <td id=\"T_8e12b_row2_col1\" class=\"data row2 col1\" >0.00%</td>\n",
       "    </tr>\n",
       "    <tr>\n",
       "      <th id=\"T_8e12b_level0_row3\" class=\"row_heading level0 row3\" >ExpId</th>\n",
       "      <td id=\"T_8e12b_row3_col0\" class=\"data row3 col0\" >0</td>\n",
       "      <td id=\"T_8e12b_row3_col1\" class=\"data row3 col1\" >0.00%</td>\n",
       "    </tr>\n",
       "  </tbody>\n",
       "</table>\n"
      ],
      "text/plain": [
       "<pandas.io.formats.style.Styler at 0x1e24ae71af0>"
      ]
     },
     "metadata": {},
     "output_type": "display_data"
    },
    {
     "name": "stdout",
     "output_type": "stream",
     "text": [
      "\u001b[1mСтатистические данные:\u001b[0m\n"
     ]
    },
    {
     "data": {
      "text/html": [
       "<div>\n",
       "<style scoped>\n",
       "    .dataframe tbody tr th:only-of-type {\n",
       "        vertical-align: middle;\n",
       "    }\n",
       "\n",
       "    .dataframe tbody tr th {\n",
       "        vertical-align: top;\n",
       "    }\n",
       "\n",
       "    .dataframe thead th {\n",
       "        text-align: right;\n",
       "    }\n",
       "</style>\n",
       "<table border=\"1\" class=\"dataframe\">\n",
       "  <thead>\n",
       "    <tr style=\"text-align: right;\">\n",
       "      <th></th>\n",
       "      <th>DeviceIDHash</th>\n",
       "      <th>EventTimestamp</th>\n",
       "      <th>ExpId</th>\n",
       "    </tr>\n",
       "  </thead>\n",
       "  <tbody>\n",
       "    <tr>\n",
       "      <th>count</th>\n",
       "      <td>244,126.00</td>\n",
       "      <td>244,126.00</td>\n",
       "      <td>244,126.00</td>\n",
       "    </tr>\n",
       "    <tr>\n",
       "      <th>mean</th>\n",
       "      <td>4,627,568,124,590,853,120.00</td>\n",
       "      <td>1,564,913,915.84</td>\n",
       "      <td>247.02</td>\n",
       "    </tr>\n",
       "    <tr>\n",
       "      <th>std</th>\n",
       "      <td>2,642,424,998,963,707,904.00</td>\n",
       "      <td>177,134.32</td>\n",
       "      <td>0.82</td>\n",
       "    </tr>\n",
       "    <tr>\n",
       "      <th>min</th>\n",
       "      <td>6,888,746,892,508,752.00</td>\n",
       "      <td>1,564,029,816.00</td>\n",
       "      <td>246.00</td>\n",
       "    </tr>\n",
       "    <tr>\n",
       "      <th>25%</th>\n",
       "      <td>2,372,212,476,992,240,640.00</td>\n",
       "      <td>1,564,756,580.25</td>\n",
       "      <td>246.00</td>\n",
       "    </tr>\n",
       "    <tr>\n",
       "      <th>50%</th>\n",
       "      <td>4,623,191,541,214,045,184.00</td>\n",
       "      <td>1,564,919,395.00</td>\n",
       "      <td>247.00</td>\n",
       "    </tr>\n",
       "    <tr>\n",
       "      <th>75%</th>\n",
       "      <td>6,932,517,045,703,054,336.00</td>\n",
       "      <td>1,565,074,511.00</td>\n",
       "      <td>248.00</td>\n",
       "    </tr>\n",
       "    <tr>\n",
       "      <th>max</th>\n",
       "      <td>9,222,603,179,720,523,776.00</td>\n",
       "      <td>1,565,212,517.00</td>\n",
       "      <td>248.00</td>\n",
       "    </tr>\n",
       "  </tbody>\n",
       "</table>\n",
       "</div>"
      ],
      "text/plain": [
       "                      DeviceIDHash   EventTimestamp      ExpId\n",
       "count                   244,126.00       244,126.00 244,126.00\n",
       "mean  4,627,568,124,590,853,120.00 1,564,913,915.84     247.02\n",
       "std   2,642,424,998,963,707,904.00       177,134.32       0.82\n",
       "min       6,888,746,892,508,752.00 1,564,029,816.00     246.00\n",
       "25%   2,372,212,476,992,240,640.00 1,564,756,580.25     246.00\n",
       "50%   4,623,191,541,214,045,184.00 1,564,919,395.00     247.00\n",
       "75%   6,932,517,045,703,054,336.00 1,565,074,511.00     248.00\n",
       "max   9,222,603,179,720,523,776.00 1,565,212,517.00     248.00"
      ]
     },
     "metadata": {},
     "output_type": "display_data"
    }
   ],
   "source": [
    "df_first_look(data)"
   ]
  },
  {
   "cell_type": "markdown",
   "id": "30be4613",
   "metadata": {},
   "source": [
    "По итогам обзора видна небходимость в следующих действиях:\n",
    "1. Удалить явные дубликаты, которых здесь 413. Доля дубликатов составила менее 1%. \n",
    "2. Для удобства переименуем и приведём к единому регистру названия столбцов.\n",
    "3. Откорректировать тип данных в столбце с датой, т.к. он дан в unix-формате. Также вычленим оттуда отдельно дату (день).\n",
    "4. Проверим, данные о каких событиях и каких группах содержит датафрейм.\n",
    "\n",
    "Пропусков в данных нет."
   ]
  },
  {
   "cell_type": "markdown",
   "id": "2e700fd2",
   "metadata": {
    "id": "2e700fd2"
   },
   "source": [
    "### Удаление дубликатов"
   ]
  },
  {
   "cell_type": "code",
   "execution_count": 5,
   "id": "8d4a47fd",
   "metadata": {
    "colab": {
     "base_uri": "https://localhost:8080/"
    },
    "id": "8d4a47fd",
    "outputId": "dcc6bbf3-225f-4086-f003-b1a695a4a8e7",
    "scrolled": true
   },
   "outputs": [
    {
     "data": {
      "text/plain": [
       "413"
      ]
     },
     "execution_count": 5,
     "metadata": {},
     "output_type": "execute_result"
    }
   ],
   "source": [
    "data.duplicated().sum()"
   ]
  },
  {
   "cell_type": "markdown",
   "id": "2ad432a4",
   "metadata": {},
   "source": [
    "Доля дубликатов составила менее 1 процента от всех данных, ничего необычного в них не замечено - поэтому смело удаляем их."
   ]
  },
  {
   "cell_type": "code",
   "execution_count": 6,
   "id": "01cc49fe",
   "metadata": {
    "colab": {
     "base_uri": "https://localhost:8080/",
     "height": 424
    },
    "id": "01cc49fe",
    "outputId": "4daa4c1f-2f2b-4499-ce40-c344786a78fb",
    "scrolled": true
   },
   "outputs": [],
   "source": [
    "data = data.drop_duplicates()"
   ]
  },
  {
   "cell_type": "code",
   "execution_count": 7,
   "id": "58350d1b",
   "metadata": {
    "scrolled": true
   },
   "outputs": [
    {
     "data": {
      "text/plain": [
       "(243713, 4)"
      ]
     },
     "execution_count": 7,
     "metadata": {},
     "output_type": "execute_result"
    }
   ],
   "source": [
    "# длина очищенного датафрейма\n",
    "data.shape"
   ]
  },
  {
   "cell_type": "markdown",
   "id": "34108a06",
   "metadata": {},
   "source": [
    "Дубликаты удалены."
   ]
  },
  {
   "cell_type": "markdown",
   "id": "913bb723",
   "metadata": {
    "id": "913bb723"
   },
   "source": [
    "### Изменение названий столбцов"
   ]
  },
  {
   "cell_type": "markdown",
   "id": "e87edd23",
   "metadata": {},
   "source": [
    "Переименуем названия столбцов на более удобные для работы. Судя по имени колонки DeviceIDHash, изначально у нас нет информации по уникальным пользователям, только по устройствам. У одного пользователя может быть несколько девайсов. Но для наших данных пренебрежём пока этим."
   ]
  },
  {
   "cell_type": "code",
   "execution_count": 8,
   "id": "470acf97",
   "metadata": {
    "colab": {
     "base_uri": "https://localhost:8080/",
     "height": 424
    },
    "id": "470acf97",
    "outputId": "2b50bc5a-b167-4bb8-84f4-053aa1a65af6",
    "scrolled": true
   },
   "outputs": [
    {
     "data": {
      "text/html": [
       "<div>\n",
       "<style scoped>\n",
       "    .dataframe tbody tr th:only-of-type {\n",
       "        vertical-align: middle;\n",
       "    }\n",
       "\n",
       "    .dataframe tbody tr th {\n",
       "        vertical-align: top;\n",
       "    }\n",
       "\n",
       "    .dataframe thead th {\n",
       "        text-align: right;\n",
       "    }\n",
       "</style>\n",
       "<table border=\"1\" class=\"dataframe\">\n",
       "  <thead>\n",
       "    <tr style=\"text-align: right;\">\n",
       "      <th></th>\n",
       "      <th>event_name</th>\n",
       "      <th>user_id</th>\n",
       "      <th>unix_event_timestamp</th>\n",
       "      <th>group</th>\n",
       "    </tr>\n",
       "  </thead>\n",
       "  <tbody>\n",
       "    <tr>\n",
       "      <th>0</th>\n",
       "      <td>MainScreenAppear</td>\n",
       "      <td>4575588528974610257</td>\n",
       "      <td>1564029816</td>\n",
       "      <td>246</td>\n",
       "    </tr>\n",
       "    <tr>\n",
       "      <th>1</th>\n",
       "      <td>MainScreenAppear</td>\n",
       "      <td>7416695313311560658</td>\n",
       "      <td>1564053102</td>\n",
       "      <td>246</td>\n",
       "    </tr>\n",
       "    <tr>\n",
       "      <th>2</th>\n",
       "      <td>PaymentScreenSuccessful</td>\n",
       "      <td>3518123091307005509</td>\n",
       "      <td>1564054127</td>\n",
       "      <td>248</td>\n",
       "    </tr>\n",
       "    <tr>\n",
       "      <th>3</th>\n",
       "      <td>CartScreenAppear</td>\n",
       "      <td>3518123091307005509</td>\n",
       "      <td>1564054127</td>\n",
       "      <td>248</td>\n",
       "    </tr>\n",
       "    <tr>\n",
       "      <th>4</th>\n",
       "      <td>PaymentScreenSuccessful</td>\n",
       "      <td>6217807653094995999</td>\n",
       "      <td>1564055322</td>\n",
       "      <td>248</td>\n",
       "    </tr>\n",
       "    <tr>\n",
       "      <th>...</th>\n",
       "      <td>...</td>\n",
       "      <td>...</td>\n",
       "      <td>...</td>\n",
       "      <td>...</td>\n",
       "    </tr>\n",
       "    <tr>\n",
       "      <th>244121</th>\n",
       "      <td>MainScreenAppear</td>\n",
       "      <td>4599628364049201812</td>\n",
       "      <td>1565212345</td>\n",
       "      <td>247</td>\n",
       "    </tr>\n",
       "    <tr>\n",
       "      <th>244122</th>\n",
       "      <td>MainScreenAppear</td>\n",
       "      <td>5849806612437486590</td>\n",
       "      <td>1565212439</td>\n",
       "      <td>246</td>\n",
       "    </tr>\n",
       "    <tr>\n",
       "      <th>244123</th>\n",
       "      <td>MainScreenAppear</td>\n",
       "      <td>5746969938801999050</td>\n",
       "      <td>1565212483</td>\n",
       "      <td>246</td>\n",
       "    </tr>\n",
       "    <tr>\n",
       "      <th>244124</th>\n",
       "      <td>MainScreenAppear</td>\n",
       "      <td>5746969938801999050</td>\n",
       "      <td>1565212498</td>\n",
       "      <td>246</td>\n",
       "    </tr>\n",
       "    <tr>\n",
       "      <th>244125</th>\n",
       "      <td>OffersScreenAppear</td>\n",
       "      <td>5746969938801999050</td>\n",
       "      <td>1565212517</td>\n",
       "      <td>246</td>\n",
       "    </tr>\n",
       "  </tbody>\n",
       "</table>\n",
       "<p>243713 rows × 4 columns</p>\n",
       "</div>"
      ],
      "text/plain": [
       "                     event_name              user_id  unix_event_timestamp  \\\n",
       "0              MainScreenAppear  4575588528974610257            1564029816   \n",
       "1              MainScreenAppear  7416695313311560658            1564053102   \n",
       "2       PaymentScreenSuccessful  3518123091307005509            1564054127   \n",
       "3              CartScreenAppear  3518123091307005509            1564054127   \n",
       "4       PaymentScreenSuccessful  6217807653094995999            1564055322   \n",
       "...                         ...                  ...                   ...   \n",
       "244121         MainScreenAppear  4599628364049201812            1565212345   \n",
       "244122         MainScreenAppear  5849806612437486590            1565212439   \n",
       "244123         MainScreenAppear  5746969938801999050            1565212483   \n",
       "244124         MainScreenAppear  5746969938801999050            1565212498   \n",
       "244125       OffersScreenAppear  5746969938801999050            1565212517   \n",
       "\n",
       "        group  \n",
       "0         246  \n",
       "1         246  \n",
       "2         248  \n",
       "3         248  \n",
       "4         248  \n",
       "...       ...  \n",
       "244121    247  \n",
       "244122    246  \n",
       "244123    246  \n",
       "244124    246  \n",
       "244125    246  \n",
       "\n",
       "[243713 rows x 4 columns]"
      ]
     },
     "execution_count": 8,
     "metadata": {},
     "output_type": "execute_result"
    }
   ],
   "source": [
    "data.columns = ['event_name', 'user_id', 'unix_event_timestamp', 'group']\n",
    "data"
   ]
  },
  {
   "cell_type": "markdown",
   "id": "75fa5b69",
   "metadata": {
    "id": "75fa5b69"
   },
   "source": [
    "### Работа с датой"
   ]
  },
  {
   "cell_type": "markdown",
   "id": "036df26a",
   "metadata": {},
   "source": [
    "Добавляем столбец с преобразованной датой и временем."
   ]
  },
  {
   "cell_type": "code",
   "execution_count": 9,
   "id": "da867f5d",
   "metadata": {
    "colab": {
     "base_uri": "https://localhost:8080/"
    },
    "id": "da867f5d",
    "outputId": "a776ee08-0a46-47de-f213-919627b98c36",
    "scrolled": true
   },
   "outputs": [
    {
     "data": {
      "text/html": [
       "<div>\n",
       "<style scoped>\n",
       "    .dataframe tbody tr th:only-of-type {\n",
       "        vertical-align: middle;\n",
       "    }\n",
       "\n",
       "    .dataframe tbody tr th {\n",
       "        vertical-align: top;\n",
       "    }\n",
       "\n",
       "    .dataframe thead th {\n",
       "        text-align: right;\n",
       "    }\n",
       "</style>\n",
       "<table border=\"1\" class=\"dataframe\">\n",
       "  <thead>\n",
       "    <tr style=\"text-align: right;\">\n",
       "      <th></th>\n",
       "      <th>event_name</th>\n",
       "      <th>user_id</th>\n",
       "      <th>unix_event_timestamp</th>\n",
       "      <th>group</th>\n",
       "      <th>event_timestamp</th>\n",
       "    </tr>\n",
       "  </thead>\n",
       "  <tbody>\n",
       "    <tr>\n",
       "      <th>0</th>\n",
       "      <td>MainScreenAppear</td>\n",
       "      <td>4575588528974610257</td>\n",
       "      <td>1564029816</td>\n",
       "      <td>246</td>\n",
       "      <td>2019-07-25 04:43:36</td>\n",
       "    </tr>\n",
       "    <tr>\n",
       "      <th>1</th>\n",
       "      <td>MainScreenAppear</td>\n",
       "      <td>7416695313311560658</td>\n",
       "      <td>1564053102</td>\n",
       "      <td>246</td>\n",
       "      <td>2019-07-25 11:11:42</td>\n",
       "    </tr>\n",
       "    <tr>\n",
       "      <th>2</th>\n",
       "      <td>PaymentScreenSuccessful</td>\n",
       "      <td>3518123091307005509</td>\n",
       "      <td>1564054127</td>\n",
       "      <td>248</td>\n",
       "      <td>2019-07-25 11:28:47</td>\n",
       "    </tr>\n",
       "    <tr>\n",
       "      <th>3</th>\n",
       "      <td>CartScreenAppear</td>\n",
       "      <td>3518123091307005509</td>\n",
       "      <td>1564054127</td>\n",
       "      <td>248</td>\n",
       "      <td>2019-07-25 11:28:47</td>\n",
       "    </tr>\n",
       "    <tr>\n",
       "      <th>4</th>\n",
       "      <td>PaymentScreenSuccessful</td>\n",
       "      <td>6217807653094995999</td>\n",
       "      <td>1564055322</td>\n",
       "      <td>248</td>\n",
       "      <td>2019-07-25 11:48:42</td>\n",
       "    </tr>\n",
       "    <tr>\n",
       "      <th>...</th>\n",
       "      <td>...</td>\n",
       "      <td>...</td>\n",
       "      <td>...</td>\n",
       "      <td>...</td>\n",
       "      <td>...</td>\n",
       "    </tr>\n",
       "    <tr>\n",
       "      <th>244121</th>\n",
       "      <td>MainScreenAppear</td>\n",
       "      <td>4599628364049201812</td>\n",
       "      <td>1565212345</td>\n",
       "      <td>247</td>\n",
       "      <td>2019-08-07 21:12:25</td>\n",
       "    </tr>\n",
       "    <tr>\n",
       "      <th>244122</th>\n",
       "      <td>MainScreenAppear</td>\n",
       "      <td>5849806612437486590</td>\n",
       "      <td>1565212439</td>\n",
       "      <td>246</td>\n",
       "      <td>2019-08-07 21:13:59</td>\n",
       "    </tr>\n",
       "    <tr>\n",
       "      <th>244123</th>\n",
       "      <td>MainScreenAppear</td>\n",
       "      <td>5746969938801999050</td>\n",
       "      <td>1565212483</td>\n",
       "      <td>246</td>\n",
       "      <td>2019-08-07 21:14:43</td>\n",
       "    </tr>\n",
       "    <tr>\n",
       "      <th>244124</th>\n",
       "      <td>MainScreenAppear</td>\n",
       "      <td>5746969938801999050</td>\n",
       "      <td>1565212498</td>\n",
       "      <td>246</td>\n",
       "      <td>2019-08-07 21:14:58</td>\n",
       "    </tr>\n",
       "    <tr>\n",
       "      <th>244125</th>\n",
       "      <td>OffersScreenAppear</td>\n",
       "      <td>5746969938801999050</td>\n",
       "      <td>1565212517</td>\n",
       "      <td>246</td>\n",
       "      <td>2019-08-07 21:15:17</td>\n",
       "    </tr>\n",
       "  </tbody>\n",
       "</table>\n",
       "<p>243713 rows × 5 columns</p>\n",
       "</div>"
      ],
      "text/plain": [
       "                     event_name              user_id  unix_event_timestamp  \\\n",
       "0              MainScreenAppear  4575588528974610257            1564029816   \n",
       "1              MainScreenAppear  7416695313311560658            1564053102   \n",
       "2       PaymentScreenSuccessful  3518123091307005509            1564054127   \n",
       "3              CartScreenAppear  3518123091307005509            1564054127   \n",
       "4       PaymentScreenSuccessful  6217807653094995999            1564055322   \n",
       "...                         ...                  ...                   ...   \n",
       "244121         MainScreenAppear  4599628364049201812            1565212345   \n",
       "244122         MainScreenAppear  5849806612437486590            1565212439   \n",
       "244123         MainScreenAppear  5746969938801999050            1565212483   \n",
       "244124         MainScreenAppear  5746969938801999050            1565212498   \n",
       "244125       OffersScreenAppear  5746969938801999050            1565212517   \n",
       "\n",
       "        group     event_timestamp  \n",
       "0         246 2019-07-25 04:43:36  \n",
       "1         246 2019-07-25 11:11:42  \n",
       "2         248 2019-07-25 11:28:47  \n",
       "3         248 2019-07-25 11:28:47  \n",
       "4         248 2019-07-25 11:48:42  \n",
       "...       ...                 ...  \n",
       "244121    247 2019-08-07 21:12:25  \n",
       "244122    246 2019-08-07 21:13:59  \n",
       "244123    246 2019-08-07 21:14:43  \n",
       "244124    246 2019-08-07 21:14:58  \n",
       "244125    246 2019-08-07 21:15:17  \n",
       "\n",
       "[243713 rows x 5 columns]"
      ]
     },
     "execution_count": 9,
     "metadata": {},
     "output_type": "execute_result"
    }
   ],
   "source": [
    "data['event_timestamp'] = pd.to_datetime(data['unix_event_timestamp'], unit='s')\n",
    "data"
   ]
  },
  {
   "cell_type": "markdown",
   "id": "75a23519",
   "metadata": {},
   "source": [
    "Для дальнейшнего исследования добавим отдельный столбец с днём события."
   ]
  },
  {
   "cell_type": "code",
   "execution_count": 10,
   "id": "258f5727",
   "metadata": {
    "colab": {
     "base_uri": "https://localhost:8080/"
    },
    "id": "258f5727",
    "outputId": "20476b31-8187-4ced-c436-e14ad5745fdd",
    "scrolled": true
   },
   "outputs": [
    {
     "data": {
      "text/html": [
       "<div>\n",
       "<style scoped>\n",
       "    .dataframe tbody tr th:only-of-type {\n",
       "        vertical-align: middle;\n",
       "    }\n",
       "\n",
       "    .dataframe tbody tr th {\n",
       "        vertical-align: top;\n",
       "    }\n",
       "\n",
       "    .dataframe thead th {\n",
       "        text-align: right;\n",
       "    }\n",
       "</style>\n",
       "<table border=\"1\" class=\"dataframe\">\n",
       "  <thead>\n",
       "    <tr style=\"text-align: right;\">\n",
       "      <th></th>\n",
       "      <th>event_name</th>\n",
       "      <th>user_id</th>\n",
       "      <th>unix_event_timestamp</th>\n",
       "      <th>group</th>\n",
       "      <th>event_timestamp</th>\n",
       "      <th>event_date</th>\n",
       "    </tr>\n",
       "  </thead>\n",
       "  <tbody>\n",
       "    <tr>\n",
       "      <th>0</th>\n",
       "      <td>MainScreenAppear</td>\n",
       "      <td>4575588528974610257</td>\n",
       "      <td>1564029816</td>\n",
       "      <td>246</td>\n",
       "      <td>2019-07-25 04:43:36</td>\n",
       "      <td>2019-07-25</td>\n",
       "    </tr>\n",
       "    <tr>\n",
       "      <th>1</th>\n",
       "      <td>MainScreenAppear</td>\n",
       "      <td>7416695313311560658</td>\n",
       "      <td>1564053102</td>\n",
       "      <td>246</td>\n",
       "      <td>2019-07-25 11:11:42</td>\n",
       "      <td>2019-07-25</td>\n",
       "    </tr>\n",
       "    <tr>\n",
       "      <th>2</th>\n",
       "      <td>PaymentScreenSuccessful</td>\n",
       "      <td>3518123091307005509</td>\n",
       "      <td>1564054127</td>\n",
       "      <td>248</td>\n",
       "      <td>2019-07-25 11:28:47</td>\n",
       "      <td>2019-07-25</td>\n",
       "    </tr>\n",
       "    <tr>\n",
       "      <th>3</th>\n",
       "      <td>CartScreenAppear</td>\n",
       "      <td>3518123091307005509</td>\n",
       "      <td>1564054127</td>\n",
       "      <td>248</td>\n",
       "      <td>2019-07-25 11:28:47</td>\n",
       "      <td>2019-07-25</td>\n",
       "    </tr>\n",
       "    <tr>\n",
       "      <th>4</th>\n",
       "      <td>PaymentScreenSuccessful</td>\n",
       "      <td>6217807653094995999</td>\n",
       "      <td>1564055322</td>\n",
       "      <td>248</td>\n",
       "      <td>2019-07-25 11:48:42</td>\n",
       "      <td>2019-07-25</td>\n",
       "    </tr>\n",
       "    <tr>\n",
       "      <th>...</th>\n",
       "      <td>...</td>\n",
       "      <td>...</td>\n",
       "      <td>...</td>\n",
       "      <td>...</td>\n",
       "      <td>...</td>\n",
       "      <td>...</td>\n",
       "    </tr>\n",
       "    <tr>\n",
       "      <th>244121</th>\n",
       "      <td>MainScreenAppear</td>\n",
       "      <td>4599628364049201812</td>\n",
       "      <td>1565212345</td>\n",
       "      <td>247</td>\n",
       "      <td>2019-08-07 21:12:25</td>\n",
       "      <td>2019-08-07</td>\n",
       "    </tr>\n",
       "    <tr>\n",
       "      <th>244122</th>\n",
       "      <td>MainScreenAppear</td>\n",
       "      <td>5849806612437486590</td>\n",
       "      <td>1565212439</td>\n",
       "      <td>246</td>\n",
       "      <td>2019-08-07 21:13:59</td>\n",
       "      <td>2019-08-07</td>\n",
       "    </tr>\n",
       "    <tr>\n",
       "      <th>244123</th>\n",
       "      <td>MainScreenAppear</td>\n",
       "      <td>5746969938801999050</td>\n",
       "      <td>1565212483</td>\n",
       "      <td>246</td>\n",
       "      <td>2019-08-07 21:14:43</td>\n",
       "      <td>2019-08-07</td>\n",
       "    </tr>\n",
       "    <tr>\n",
       "      <th>244124</th>\n",
       "      <td>MainScreenAppear</td>\n",
       "      <td>5746969938801999050</td>\n",
       "      <td>1565212498</td>\n",
       "      <td>246</td>\n",
       "      <td>2019-08-07 21:14:58</td>\n",
       "      <td>2019-08-07</td>\n",
       "    </tr>\n",
       "    <tr>\n",
       "      <th>244125</th>\n",
       "      <td>OffersScreenAppear</td>\n",
       "      <td>5746969938801999050</td>\n",
       "      <td>1565212517</td>\n",
       "      <td>246</td>\n",
       "      <td>2019-08-07 21:15:17</td>\n",
       "      <td>2019-08-07</td>\n",
       "    </tr>\n",
       "  </tbody>\n",
       "</table>\n",
       "<p>243713 rows × 6 columns</p>\n",
       "</div>"
      ],
      "text/plain": [
       "                     event_name              user_id  unix_event_timestamp  \\\n",
       "0              MainScreenAppear  4575588528974610257            1564029816   \n",
       "1              MainScreenAppear  7416695313311560658            1564053102   \n",
       "2       PaymentScreenSuccessful  3518123091307005509            1564054127   \n",
       "3              CartScreenAppear  3518123091307005509            1564054127   \n",
       "4       PaymentScreenSuccessful  6217807653094995999            1564055322   \n",
       "...                         ...                  ...                   ...   \n",
       "244121         MainScreenAppear  4599628364049201812            1565212345   \n",
       "244122         MainScreenAppear  5849806612437486590            1565212439   \n",
       "244123         MainScreenAppear  5746969938801999050            1565212483   \n",
       "244124         MainScreenAppear  5746969938801999050            1565212498   \n",
       "244125       OffersScreenAppear  5746969938801999050            1565212517   \n",
       "\n",
       "        group     event_timestamp  event_date  \n",
       "0         246 2019-07-25 04:43:36  2019-07-25  \n",
       "1         246 2019-07-25 11:11:42  2019-07-25  \n",
       "2         248 2019-07-25 11:28:47  2019-07-25  \n",
       "3         248 2019-07-25 11:28:47  2019-07-25  \n",
       "4         248 2019-07-25 11:48:42  2019-07-25  \n",
       "...       ...                 ...         ...  \n",
       "244121    247 2019-08-07 21:12:25  2019-08-07  \n",
       "244122    246 2019-08-07 21:13:59  2019-08-07  \n",
       "244123    246 2019-08-07 21:14:43  2019-08-07  \n",
       "244124    246 2019-08-07 21:14:58  2019-08-07  \n",
       "244125    246 2019-08-07 21:15:17  2019-08-07  \n",
       "\n",
       "[243713 rows x 6 columns]"
      ]
     },
     "execution_count": 10,
     "metadata": {},
     "output_type": "execute_result"
    }
   ],
   "source": [
    "data['event_date'] = data['event_timestamp'].dt.date\n",
    "data"
   ]
  },
  {
   "cell_type": "markdown",
   "id": "08f00f01",
   "metadata": {
    "id": "08f00f01"
   },
   "source": [
    "### Обзор уникальных значений"
   ]
  },
  {
   "cell_type": "markdown",
   "id": "2b3bacc5",
   "metadata": {},
   "source": [
    "Рассмотрим уникальные значения в столбцах с событиями и группами."
   ]
  },
  {
   "cell_type": "code",
   "execution_count": 11,
   "id": "84e980f3",
   "metadata": {
    "colab": {
     "base_uri": "https://localhost:8080/"
    },
    "id": "84e980f3",
    "outputId": "2ae9e4c1-f0eb-4210-fbe9-91e30b8428ed",
    "scrolled": true
   },
   "outputs": [
    {
     "data": {
      "text/plain": [
       "['MainScreenAppear',\n",
       " 'PaymentScreenSuccessful',\n",
       " 'CartScreenAppear',\n",
       " 'OffersScreenAppear',\n",
       " 'Tutorial']"
      ]
     },
     "execution_count": 11,
     "metadata": {},
     "output_type": "execute_result"
    }
   ],
   "source": [
    "list(data['event_name'].unique())"
   ]
  },
  {
   "cell_type": "code",
   "execution_count": 12,
   "id": "2cf0943c",
   "metadata": {
    "colab": {
     "base_uri": "https://localhost:8080/"
    },
    "id": "2cf0943c",
    "outputId": "779a6fb3-d973-4ed5-9820-0e97a6590352"
   },
   "outputs": [
    {
     "data": {
      "text/plain": [
       "[246, 248, 247]"
      ]
     },
     "execution_count": 12,
     "metadata": {},
     "output_type": "execute_result"
    }
   ],
   "source": [
    "list(data['group'].unique())"
   ]
  },
  {
   "cell_type": "markdown",
   "id": "ea7256b2",
   "metadata": {},
   "source": [
    "Имеем данные о том, на какие 5 экранов приложения заходят пользователи. Данные о номерах групп совпадают с предложенными в задании."
   ]
  },
  {
   "cell_type": "markdown",
   "id": "ca49fad1",
   "metadata": {
    "id": "ca49fad1"
   },
   "source": [
    "## Анализ данных"
   ]
  },
  {
   "cell_type": "markdown",
   "id": "7c801de1",
   "metadata": {
    "id": "7c801de1"
   },
   "source": [
    "### Изучение количества событий и пользователей в логе"
   ]
  },
  {
   "cell_type": "code",
   "execution_count": 13,
   "id": "f8070747",
   "metadata": {
    "id": "f6010752"
   },
   "outputs": [
    {
     "name": "stdout",
     "output_type": "stream",
     "text": [
      " \n",
      "Всего в логе:  \n",
      "    243713 событий,\n",
      "    7551 уникальных пользователей.\n",
      "\n"
     ]
    }
   ],
   "source": [
    "print(f''' \n",
    "Всего в логе:  \n",
    "    {data.shape[0]} событий,\n",
    "    {data['user_id'].nunique()} уникальных пользователей.\n",
    "''')"
   ]
  },
  {
   "cell_type": "markdown",
   "id": "e474f2cf",
   "metadata": {
    "id": "e474f2cf"
   },
   "source": [
    "Посмотрим, сколько в среднем событий приходится на пользователя."
   ]
  },
  {
   "cell_type": "code",
   "execution_count": 14,
   "id": "b42f3d47",
   "metadata": {
    "colab": {
     "base_uri": "https://localhost:8080/"
    },
    "id": "b42f3d47",
    "outputId": "aa05c360-5431-4cb2-b4cf-6bf7bc05e9ad",
    "scrolled": false
   },
   "outputs": [
    {
     "data": {
      "text/plain": [
       "count   7,551.00\n",
       "mean       32.28\n",
       "std        65.15\n",
       "min         1.00\n",
       "25%         9.00\n",
       "50%        20.00\n",
       "75%        37.00\n",
       "max     2,307.00\n",
       "Name: event_name, dtype: float64"
      ]
     },
     "execution_count": 14,
     "metadata": {},
     "output_type": "execute_result"
    }
   ],
   "source": [
    "event_qty = data.groupby('user_id')['event_name'].count()\n",
    "event_qty.describe()"
   ]
  },
  {
   "cell_type": "code",
   "execution_count": 15,
   "id": "1a48e5d5",
   "metadata": {
    "colab": {
     "base_uri": "https://localhost:8080/",
     "height": 241
    },
    "id": "1a48e5d5",
    "outputId": "6c02453f-88eb-4e4d-e12e-034fd24507f5",
    "scrolled": true
   },
   "outputs": [
    {
     "data": {
      "image/png": "[encoded data removed]",
      "text/plain": [
       "<Figure size 864x216 with 1 Axes>"
      ]
     },
     "metadata": {
      "needs_background": "light"
     },
     "output_type": "display_data"
    }
   ],
   "source": [
    "plt.figure(figsize=(12, 3))\n",
    "sns.boxplot(event_qty)\n",
    "plt.xlabel('Количество событий')\n",
    "plt.title('Количество событий на пользователя')\n",
    "plt.xlim(0, 200)\n",
    "plt.grid()\n",
    "plt.show()"
   ]
  },
  {
   "cell_type": "markdown",
   "id": "32715d73",
   "metadata": {},
   "source": [
    "В среднем по медиане приходится по 20 событий на пользователя. Однако, график-боксплот говорит нам о довольно большом количестве выбросов: пользователей, за которыми числится более 80 событий - такие пользователи расцениваются как выбросы. Также вызывает  вопросы максимальное количество событий у одного пользователя, равно 2307 событиям. Возможно, что-то не так со сбором данных, или с работой приложения на некоторых устройствах."
   ]
  },
  {
   "cell_type": "markdown",
   "id": "ead6146f",
   "metadata": {
    "id": "ead6146f"
   },
   "source": [
    "### Период данных"
   ]
  },
  {
   "cell_type": "markdown",
   "id": "716028d6",
   "metadata": {},
   "source": [
    "В это разделе посмотрим, данными за какой период мы располагаем."
   ]
  },
  {
   "cell_type": "code",
   "execution_count": 16,
   "id": "05c7c922",
   "metadata": {
    "colab": {
     "base_uri": "https://localhost:8080/"
    },
    "id": "05c7c922",
    "outputId": "a8efe3a9-27a6-4ba8-abc2-6fa99dba384f",
    "scrolled": false
   },
   "outputs": [
    {
     "name": "stdout",
     "output_type": "stream",
     "text": [
      "2019-07-25\n",
      "2019-08-07\n"
     ]
    }
   ],
   "source": [
    "print(data['event_date'].min())\n",
    "print(data['event_date'].max())"
   ]
  },
  {
   "cell_type": "code",
   "execution_count": 17,
   "id": "2ecf783d",
   "metadata": {
    "colab": {
     "base_uri": "https://localhost:8080/"
    },
    "id": "2ecf783d",
    "outputId": "2bc7efd2-7175-4f9a-cf01-8e66813203eb",
    "scrolled": true
   },
   "outputs": [
    {
     "data": {
      "text/plain": [
       "Timedelta('14 days 00:00:00')"
      ]
     },
     "execution_count": 17,
     "metadata": {},
     "output_type": "execute_result"
    }
   ],
   "source": [
    "(data['event_timestamp'].max() - data['event_timestamp'].min()).round('1d')"
   ]
  },
  {
   "cell_type": "markdown",
   "id": "94ebf2ff",
   "metadata": {
    "id": "94ebf2ff"
   },
   "source": [
    "Изначально у нас есть лог за 14 дней с 25 июля по 7 августа 2019 года.\n",
    "\n",
    "Посмотрим как события распределены во времени."
   ]
  },
  {
   "cell_type": "code",
   "execution_count": 18,
   "id": "4b90b95a",
   "metadata": {
    "colab": {
     "base_uri": "https://localhost:8080/",
     "height": 388
    },
    "id": "4b90b95a",
    "outputId": "a46bd38c-388c-4d57-8fa2-17ebd554f2be",
    "scrolled": false
   },
   "outputs": [
    {
     "data": {
      "image/png": "[encoded data removed]",
      "text/plain": [
       "<Figure size 1080x360 with 1 Axes>"
      ]
     },
     "metadata": {
      "needs_background": "light"
     },
     "output_type": "display_data"
    }
   ],
   "source": [
    "plt.figure(figsize=(15, 5))\n",
    "sns.histplot(data, x='event_timestamp', bins=500)\n",
    "\n",
    "plt.ylabel('Количество событий в логе')\n",
    "plt.xlabel('Дата')\n",
    "plt.title('Распределение событий лога во времени')\n",
    "plt.xticks(rotation=45)\n",
    "plt.grid()\n",
    "plt.show()"
   ]
  },
  {
   "cell_type": "markdown",
   "id": "f5c717a0",
   "metadata": {
    "id": "f5c717a0"
   },
   "source": [
    "На графике количества событий по датам видно, что нельзя быть уверенным, что у нас одинаково полные данные за весь период. Судя по всему, мы имеем полные данные только с 1 августа. Поэтому отбросим более старые, которые были до этой даты."
   ]
  },
  {
   "cell_type": "code",
   "execution_count": 19,
   "id": "7945108f",
   "metadata": {
    "colab": {
     "base_uri": "https://localhost:8080/",
     "height": 424
    },
    "id": "7945108f",
    "outputId": "b5ddf8f9-9cab-43a3-f446-a1432762865d"
   },
   "outputs": [
    {
     "data": {
      "text/plain": [
       "(240887, 6)"
      ]
     },
     "execution_count": 19,
     "metadata": {},
     "output_type": "execute_result"
    }
   ],
   "source": [
    "df = data[data['event_date'] > dt.date(2019, 7, 31)]\n",
    "df.shape"
   ]
  },
  {
   "cell_type": "code",
   "execution_count": 20,
   "id": "3359f4ee",
   "metadata": {
    "colab": {
     "base_uri": "https://localhost:8080/"
    },
    "id": "3359f4ee",
    "outputId": "de140d76-6b6b-4d49-bee1-293f8711bcf7"
   },
   "outputs": [
    {
     "data": {
      "text/plain": [
       "Timedelta('7 days 00:00:00')"
      ]
     },
     "execution_count": 20,
     "metadata": {},
     "output_type": "execute_result"
    }
   ],
   "source": [
    "(df['event_timestamp'].max() - df['event_timestamp'].min()).round('1d')"
   ]
  },
  {
   "cell_type": "markdown",
   "id": "37a8ec40",
   "metadata": {
    "id": "37a8ec40"
   },
   "source": [
    "Теперь у нас есть чистые актуальные данные за 7 дней."
   ]
  },
  {
   "cell_type": "markdown",
   "id": "a2e9c867",
   "metadata": {
    "id": "a2e9c867"
   },
   "source": [
    "**Проверим: много ли событий и пользователей мы потеряли, отбросив данные?**"
   ]
  },
  {
   "cell_type": "code",
   "execution_count": 21,
   "id": "db492e70",
   "metadata": {
    "id": "db492e70"
   },
   "outputs": [],
   "source": [
    "dropped_data = data[data['event_date'] <= dt.date(2019, 7, 31)]"
   ]
  },
  {
   "cell_type": "code",
   "execution_count": 53,
   "id": "91ec1df3",
   "metadata": {},
   "outputs": [
    {
     "name": "stdout",
     "output_type": "stream",
     "text": [
      " \n",
      "Отбросили данные о:  \n",
      "    - 2826 событий, это 1.16%.\n",
      "    - 17 уникальных пользователях, это 0.23%.\n",
      "\n"
     ]
    }
   ],
   "source": [
    "print(f''' \n",
    "Отбросили данные о:  \n",
    "    - {len(dropped_data)} событий, это {round(len(dropped_data) / len(data) * 100, 2)}%.\n",
    "    - {data['user_id'].nunique() - df['user_id'].nunique()} уникальных пользователях, \\\n",
    "это {round((data['user_id'].nunique() - df['user_id'].nunique()) / data['user_id'].nunique() * 100 , 2)}%.\n",
    "''')"
   ]
  },
  {
   "cell_type": "markdown",
   "id": "6bd7e38e",
   "metadata": {},
   "source": [
    "Таким образом, мы отбросили данные о:\n",
    "* 2826 событиях, что составляет чуть больше 1% от первоначального количества,\n",
    "* 17 пользователях, что составляет 0,2% от общего количества.\n",
    "\n",
    "Доли отброшенных данных довольно малы, и ими можно пренебречь."
   ]
  },
  {
   "cell_type": "code",
   "execution_count": 25,
   "id": "532c5b50",
   "metadata": {},
   "outputs": [
    {
     "name": "stdout",
     "output_type": "stream",
     "text": [
      " \n",
      "В оставшихся данных располагаем данными о:  \n",
      "    240887 событиях,\n",
      "    7534 уникальных пользователей.\n",
      "\n"
     ]
    }
   ],
   "source": [
    "print(f''' \n",
    "В оставшихся данных располагаем данными о:  \n",
    "    {df.shape[0]} событиях,\n",
    "    {df['user_id'].nunique()} уникальных пользователей.\n",
    "''')"
   ]
  },
  {
   "cell_type": "markdown",
   "id": "c551cec8",
   "metadata": {
    "id": "c551cec8"
   },
   "source": [
    "**Ниже проверим, что у нас есть пользователи из всех трёх экспериментальных групп.**"
   ]
  },
  {
   "cell_type": "code",
   "execution_count": 26,
   "id": "2516976e",
   "metadata": {
    "colab": {
     "base_uri": "https://localhost:8080/"
    },
    "id": "2516976e",
    "outputId": "07a3b47b-e217-4de6-bbd4-883267ff44d4",
    "scrolled": true
   },
   "outputs": [
    {
     "data": {
      "text/html": [
       "<div>\n",
       "<style scoped>\n",
       "    .dataframe tbody tr th:only-of-type {\n",
       "        vertical-align: middle;\n",
       "    }\n",
       "\n",
       "    .dataframe tbody tr th {\n",
       "        vertical-align: top;\n",
       "    }\n",
       "\n",
       "    .dataframe thead th {\n",
       "        text-align: right;\n",
       "    }\n",
       "</style>\n",
       "<table border=\"1\" class=\"dataframe\">\n",
       "  <thead>\n",
       "    <tr style=\"text-align: right;\">\n",
       "      <th></th>\n",
       "      <th>user_id</th>\n",
       "    </tr>\n",
       "    <tr>\n",
       "      <th>group</th>\n",
       "      <th></th>\n",
       "    </tr>\n",
       "  </thead>\n",
       "  <tbody>\n",
       "    <tr>\n",
       "      <th>246</th>\n",
       "      <td>2484</td>\n",
       "    </tr>\n",
       "    <tr>\n",
       "      <th>247</th>\n",
       "      <td>2513</td>\n",
       "    </tr>\n",
       "    <tr>\n",
       "      <th>248</th>\n",
       "      <td>2537</td>\n",
       "    </tr>\n",
       "  </tbody>\n",
       "</table>\n",
       "</div>"
      ],
      "text/plain": [
       "       user_id\n",
       "group         \n",
       "246       2484\n",
       "247       2513\n",
       "248       2537"
      ]
     },
     "execution_count": 26,
     "metadata": {},
     "output_type": "execute_result"
    }
   ],
   "source": [
    "df.groupby('group').agg({'user_id': 'nunique'})"
   ]
  },
  {
   "cell_type": "markdown",
   "id": "4b3974b2",
   "metadata": {},
   "source": [
    "**Вывод:** В ходе работы было выявлено, что по каким-то причинам (вероятно техническим) данные за первую из двух недель у нас явно не полные - они разительно отличаются от количества событий второй недели, где распределение по дням и по времени похоже на правду, т.к. видно что в ночное время событий гораздо меньше, чем днём.\n",
    "\n",
    "События первой недели составили около 1% от всех событий, а количество пользователей в отброшенных данных - менее 1%.\n",
    "Поэтому принято решение для анализа взять чистые данные, отбросив события первой недели."
   ]
  },
  {
   "cell_type": "markdown",
   "id": "57885d82",
   "metadata": {
    "id": "57885d82"
   },
   "source": [
    "## Воронка событий"
   ]
  },
  {
   "cell_type": "markdown",
   "id": "70282107",
   "metadata": {
    "id": "70282107"
   },
   "source": [
    "### События в логах"
   ]
  },
  {
   "cell_type": "code",
   "execution_count": 27,
   "id": "45212f72",
   "metadata": {},
   "outputs": [
    {
     "data": {
      "text/html": [
       "<div>\n",
       "<style scoped>\n",
       "    .dataframe tbody tr th:only-of-type {\n",
       "        vertical-align: middle;\n",
       "    }\n",
       "\n",
       "    .dataframe tbody tr th {\n",
       "        vertical-align: top;\n",
       "    }\n",
       "\n",
       "    .dataframe thead th {\n",
       "        text-align: right;\n",
       "    }\n",
       "</style>\n",
       "<table border=\"1\" class=\"dataframe\">\n",
       "  <thead>\n",
       "    <tr style=\"text-align: right;\">\n",
       "      <th></th>\n",
       "      <th>event_name</th>\n",
       "      <th>user_id</th>\n",
       "      <th>unix_event_timestamp</th>\n",
       "      <th>group</th>\n",
       "      <th>event_timestamp</th>\n",
       "      <th>event_date</th>\n",
       "    </tr>\n",
       "  </thead>\n",
       "  <tbody>\n",
       "    <tr>\n",
       "      <th>2828</th>\n",
       "      <td>Tutorial</td>\n",
       "      <td>3737462046622621720</td>\n",
       "      <td>1564618048</td>\n",
       "      <td>246</td>\n",
       "      <td>2019-08-01 00:07:28</td>\n",
       "      <td>2019-08-01</td>\n",
       "    </tr>\n",
       "    <tr>\n",
       "      <th>2829</th>\n",
       "      <td>MainScreenAppear</td>\n",
       "      <td>3737462046622621720</td>\n",
       "      <td>1564618080</td>\n",
       "      <td>246</td>\n",
       "      <td>2019-08-01 00:08:00</td>\n",
       "      <td>2019-08-01</td>\n",
       "    </tr>\n",
       "    <tr>\n",
       "      <th>2830</th>\n",
       "      <td>MainScreenAppear</td>\n",
       "      <td>3737462046622621720</td>\n",
       "      <td>1564618135</td>\n",
       "      <td>246</td>\n",
       "      <td>2019-08-01 00:08:55</td>\n",
       "      <td>2019-08-01</td>\n",
       "    </tr>\n",
       "    <tr>\n",
       "      <th>2831</th>\n",
       "      <td>OffersScreenAppear</td>\n",
       "      <td>3737462046622621720</td>\n",
       "      <td>1564618138</td>\n",
       "      <td>246</td>\n",
       "      <td>2019-08-01 00:08:58</td>\n",
       "      <td>2019-08-01</td>\n",
       "    </tr>\n",
       "    <tr>\n",
       "      <th>2832</th>\n",
       "      <td>MainScreenAppear</td>\n",
       "      <td>1433840883824088890</td>\n",
       "      <td>1564618139</td>\n",
       "      <td>247</td>\n",
       "      <td>2019-08-01 00:08:59</td>\n",
       "      <td>2019-08-01</td>\n",
       "    </tr>\n",
       "  </tbody>\n",
       "</table>\n",
       "</div>"
      ],
      "text/plain": [
       "              event_name              user_id  unix_event_timestamp  group  \\\n",
       "2828            Tutorial  3737462046622621720            1564618048    246   \n",
       "2829    MainScreenAppear  3737462046622621720            1564618080    246   \n",
       "2830    MainScreenAppear  3737462046622621720            1564618135    246   \n",
       "2831  OffersScreenAppear  3737462046622621720            1564618138    246   \n",
       "2832    MainScreenAppear  1433840883824088890            1564618139    247   \n",
       "\n",
       "         event_timestamp  event_date  \n",
       "2828 2019-08-01 00:07:28  2019-08-01  \n",
       "2829 2019-08-01 00:08:00  2019-08-01  \n",
       "2830 2019-08-01 00:08:55  2019-08-01  \n",
       "2831 2019-08-01 00:08:58  2019-08-01  \n",
       "2832 2019-08-01 00:08:59  2019-08-01  "
      ]
     },
     "execution_count": 27,
     "metadata": {},
     "output_type": "execute_result"
    }
   ],
   "source": [
    "df.head()"
   ]
  },
  {
   "cell_type": "markdown",
   "id": "76f66ab2",
   "metadata": {},
   "source": [
    " **Здесь рассмотрим, какие события есть в логах, как часто они встречаются.**"
   ]
  },
  {
   "cell_type": "code",
   "execution_count": 28,
   "id": "2657d16e",
   "metadata": {
    "colab": {
     "base_uri": "https://localhost:8080/"
    },
    "id": "2657d16e",
    "outputId": "f73cd896-da56-4dda-8985-fce373b95add"
   },
   "outputs": [
    {
     "data": {
      "text/html": [
       "<div>\n",
       "<style scoped>\n",
       "    .dataframe tbody tr th:only-of-type {\n",
       "        vertical-align: middle;\n",
       "    }\n",
       "\n",
       "    .dataframe tbody tr th {\n",
       "        vertical-align: top;\n",
       "    }\n",
       "\n",
       "    .dataframe thead th {\n",
       "        text-align: right;\n",
       "    }\n",
       "</style>\n",
       "<table border=\"1\" class=\"dataframe\">\n",
       "  <thead>\n",
       "    <tr style=\"text-align: right;\">\n",
       "      <th></th>\n",
       "      <th>event_name</th>\n",
       "      <th>quantity</th>\n",
       "    </tr>\n",
       "  </thead>\n",
       "  <tbody>\n",
       "    <tr>\n",
       "      <th>1</th>\n",
       "      <td>MainScreenAppear</td>\n",
       "      <td>117328</td>\n",
       "    </tr>\n",
       "    <tr>\n",
       "      <th>2</th>\n",
       "      <td>OffersScreenAppear</td>\n",
       "      <td>46333</td>\n",
       "    </tr>\n",
       "    <tr>\n",
       "      <th>0</th>\n",
       "      <td>CartScreenAppear</td>\n",
       "      <td>42303</td>\n",
       "    </tr>\n",
       "    <tr>\n",
       "      <th>3</th>\n",
       "      <td>PaymentScreenSuccessful</td>\n",
       "      <td>33918</td>\n",
       "    </tr>\n",
       "    <tr>\n",
       "      <th>4</th>\n",
       "      <td>Tutorial</td>\n",
       "      <td>1005</td>\n",
       "    </tr>\n",
       "  </tbody>\n",
       "</table>\n",
       "</div>"
      ],
      "text/plain": [
       "                event_name  quantity\n",
       "1         MainScreenAppear    117328\n",
       "2       OffersScreenAppear     46333\n",
       "0         CartScreenAppear     42303\n",
       "3  PaymentScreenSuccessful     33918\n",
       "4                 Tutorial      1005"
      ]
     },
     "execution_count": 28,
     "metadata": {},
     "output_type": "execute_result"
    }
   ],
   "source": [
    "events_qty = (\n",
    "    df.groupby('event_name', as_index=False)['user_id'].count() \n",
    "    .rename(columns={'user_id':'quantity'}) \n",
    "    .sort_values('quantity', ascending=False)\n",
    ")\n",
    "events_qty"
   ]
  },
  {
   "cell_type": "code",
   "execution_count": 29,
   "id": "8d8629bf",
   "metadata": {
    "colab": {
     "base_uri": "https://localhost:8080/"
    },
    "id": "8d8629bf",
    "outputId": "57b93289-f578-423c-89c4-9adc06bd2bc1",
    "scrolled": true
   },
   "outputs": [
    {
     "data": {
      "image/png": "[encoded data removed]",
      "text/plain": [
       "<Figure size 792x360 with 1 Axes>"
      ]
     },
     "metadata": {
      "needs_background": "light"
     },
     "output_type": "display_data"
    }
   ],
   "source": [
    "plt.figure(figsize=(11, 5))\n",
    "sns.barplot(data=events_qty, x='event_name', y='quantity')\n",
    "\n",
    "plt.title('Количество совершённых событий за период исследования')\n",
    "plt.xlabel('Событие')\n",
    "plt.ylabel('Количество событий')\n",
    "plt.grid()\n",
    "plt.show()"
   ]
  },
  {
   "cell_type": "markdown",
   "id": "1fa8da87",
   "metadata": {},
   "source": [
    "Довольно ожидаемо, что открытие главного экрана приложения - самое частое событие у пользователей.\n",
    "А вот обучающий урок по приложению смотрят далеко не все."
   ]
  },
  {
   "cell_type": "markdown",
   "id": "daed40f8",
   "metadata": {},
   "source": [
    "**Посчитаем, сколько пользователей совершали каждое из событий.**"
   ]
  },
  {
   "cell_type": "code",
   "execution_count": 55,
   "id": "e6cce996",
   "metadata": {
    "colab": {
     "base_uri": "https://localhost:8080/"
    },
    "id": "e6cce996",
    "outputId": "ffc716a2-9f88-47fb-c6a8-8ce7cfe88b39",
    "scrolled": true
   },
   "outputs": [
    {
     "data": {
      "text/html": [
       "<div>\n",
       "<style scoped>\n",
       "    .dataframe tbody tr th:only-of-type {\n",
       "        vertical-align: middle;\n",
       "    }\n",
       "\n",
       "    .dataframe tbody tr th {\n",
       "        vertical-align: top;\n",
       "    }\n",
       "\n",
       "    .dataframe thead th {\n",
       "        text-align: right;\n",
       "    }\n",
       "</style>\n",
       "<table border=\"1\" class=\"dataframe\">\n",
       "  <thead>\n",
       "    <tr style=\"text-align: right;\">\n",
       "      <th></th>\n",
       "      <th>event_name</th>\n",
       "      <th>users</th>\n",
       "      <th>users_share, %</th>\n",
       "    </tr>\n",
       "  </thead>\n",
       "  <tbody>\n",
       "    <tr>\n",
       "      <th>1</th>\n",
       "      <td>MainScreenAppear</td>\n",
       "      <td>7419</td>\n",
       "      <td>98.50</td>\n",
       "    </tr>\n",
       "    <tr>\n",
       "      <th>2</th>\n",
       "      <td>OffersScreenAppear</td>\n",
       "      <td>4593</td>\n",
       "      <td>61.00</td>\n",
       "    </tr>\n",
       "    <tr>\n",
       "      <th>0</th>\n",
       "      <td>CartScreenAppear</td>\n",
       "      <td>3734</td>\n",
       "      <td>49.60</td>\n",
       "    </tr>\n",
       "    <tr>\n",
       "      <th>3</th>\n",
       "      <td>PaymentScreenSuccessful</td>\n",
       "      <td>3539</td>\n",
       "      <td>47.00</td>\n",
       "    </tr>\n",
       "    <tr>\n",
       "      <th>4</th>\n",
       "      <td>Tutorial</td>\n",
       "      <td>840</td>\n",
       "      <td>11.10</td>\n",
       "    </tr>\n",
       "  </tbody>\n",
       "</table>\n",
       "</div>"
      ],
      "text/plain": [
       "                event_name  users  users_share, %\n",
       "1         MainScreenAppear   7419           98.50\n",
       "2       OffersScreenAppear   4593           61.00\n",
       "0         CartScreenAppear   3734           49.60\n",
       "3  PaymentScreenSuccessful   3539           47.00\n",
       "4                 Tutorial    840           11.10"
      ]
     },
     "execution_count": 55,
     "metadata": {},
     "output_type": "execute_result"
    }
   ],
   "source": [
    "events_users_qty = (\n",
    "    df.groupby('event_name', as_index=False)['user_id'].nunique() \n",
    "    .rename(columns={'user_id':'users'}) \n",
    "    .sort_values('users', ascending=False)\n",
    ")\n",
    "\n",
    "events_users_qty['users_share, %'] = round(events_users_qty['users'] / df['user_id'].nunique() * 100, 1)\n",
    "\n",
    "events_users_qty"
   ]
  },
  {
   "cell_type": "code",
   "execution_count": 31,
   "id": "4a5532b2",
   "metadata": {
    "colab": {
     "base_uri": "https://localhost:8080/"
    },
    "id": "4a5532b2",
    "outputId": "5d797043-dd13-44e8-aca8-69d010294b4a",
    "scrolled": false
   },
   "outputs": [
    {
     "data": {
      "image/png": "[encoded data removed]",
      "text/plain": [
       "<Figure size 792x360 with 1 Axes>"
      ]
     },
     "metadata": {
      "needs_background": "light"
     },
     "output_type": "display_data"
    }
   ],
   "source": [
    "plt.figure(figsize=(11, 5))\n",
    "sns.barplot(data=events_users_qty, x='event_name', y='users')\n",
    "\n",
    "plt.title('Cколько пользователей совершали каждое из событий')\n",
    "plt.xlabel('Событие')\n",
    "plt.ylabel('Пользователей')\n",
    "plt.grid()\n",
    "plt.show()"
   ]
  },
  {
   "cell_type": "markdown",
   "id": "547d9e39",
   "metadata": {
    "id": "547d9e39"
   },
   "source": [
    "Шаги, через которые проходят пользователи, идут в порядке, как на графике выше:\n",
    "\n",
    "1. Пользователь заходит в приложение, попадая на главный экран.\n",
    "2. Заходит в карточку товара/услуги. \n",
    "3. Переходит на экран \"корзины\".\n",
    "4. Переходит на страницу оплаты заказа.\n",
    "\n",
    "Однако, событие \"Tutorial\"  мы исключаем из воронки, т.к. это ознакомительный процесс для пользователей: кто-то выбирает проходить его, кто-то игнорирует. Это не является обязательным элементом процесса по оформлению заказа, поэтому исключим это событие из воронки событий."
   ]
  },
  {
   "cell_type": "markdown",
   "id": "2800f627",
   "metadata": {},
   "source": [
    "Видим довольно большую разницу в количестве пользователей на этапе перехода от главного экрана к экрану с товаром/услугой. Т.е. не всем интересно изучить предложение и что-то удерживает пользователей от изучения ассортимента товаров.  А дальше после просмотра товарного предложения пользователи уже, как правило, заинтересованы покупкой и очень многие доходят до оплаты."
   ]
  },
  {
   "cell_type": "markdown",
   "id": "6b20e96f",
   "metadata": {
    "id": "6b20e96f"
   },
   "source": [
    "### Воронка событий"
   ]
  },
  {
   "cell_type": "markdown",
   "id": "5e6c044b",
   "metadata": {},
   "source": [
    "Построим воронку событий. \n",
    "\n",
    "В табличном виде отобразим, какая доля пользователей проходит через конкретный шаг воронки от числа всех уникальных пользователей."
   ]
  },
  {
   "cell_type": "code",
   "execution_count": 32,
   "id": "d0ab8b2d",
   "metadata": {
    "colab": {
     "base_uri": "https://localhost:8080/",
     "height": 206
    },
    "id": "d0ab8b2d",
    "outputId": "575ee2e2-043f-40ff-f6db-5b14af6c702c",
    "scrolled": true
   },
   "outputs": [
    {
     "data": {
      "text/html": [
       "<div>\n",
       "<style scoped>\n",
       "    .dataframe tbody tr th:only-of-type {\n",
       "        vertical-align: middle;\n",
       "    }\n",
       "\n",
       "    .dataframe tbody tr th {\n",
       "        vertical-align: top;\n",
       "    }\n",
       "\n",
       "    .dataframe thead th {\n",
       "        text-align: right;\n",
       "    }\n",
       "</style>\n",
       "<table border=\"1\" class=\"dataframe\">\n",
       "  <thead>\n",
       "    <tr style=\"text-align: right;\">\n",
       "      <th></th>\n",
       "      <th>event_name</th>\n",
       "      <th>users</th>\n",
       "      <th>users_share, %</th>\n",
       "    </tr>\n",
       "  </thead>\n",
       "  <tbody>\n",
       "    <tr>\n",
       "      <th>4</th>\n",
       "      <td>total_users</td>\n",
       "      <td>7534</td>\n",
       "      <td>100.00</td>\n",
       "    </tr>\n",
       "    <tr>\n",
       "      <th>0</th>\n",
       "      <td>MainScreenAppear</td>\n",
       "      <td>7419</td>\n",
       "      <td>98.50</td>\n",
       "    </tr>\n",
       "    <tr>\n",
       "      <th>1</th>\n",
       "      <td>OffersScreenAppear</td>\n",
       "      <td>4593</td>\n",
       "      <td>61.00</td>\n",
       "    </tr>\n",
       "    <tr>\n",
       "      <th>2</th>\n",
       "      <td>CartScreenAppear</td>\n",
       "      <td>3734</td>\n",
       "      <td>49.60</td>\n",
       "    </tr>\n",
       "    <tr>\n",
       "      <th>3</th>\n",
       "      <td>PaymentScreenSuccessful</td>\n",
       "      <td>3539</td>\n",
       "      <td>47.00</td>\n",
       "    </tr>\n",
       "  </tbody>\n",
       "</table>\n",
       "</div>"
      ],
      "text/plain": [
       "                event_name  users  users_share, %\n",
       "4              total_users   7534          100.00\n",
       "0         MainScreenAppear   7419           98.50\n",
       "1       OffersScreenAppear   4593           61.00\n",
       "2         CartScreenAppear   3734           49.60\n",
       "3  PaymentScreenSuccessful   3539           47.00"
      ]
     },
     "execution_count": 32,
     "metadata": {},
     "output_type": "execute_result"
    }
   ],
   "source": [
    "new_row = {'event_name':'total_users', 'users':df['user_id'].nunique(), 'users_share, %':100}\n",
    "funnel = (\n",
    "    events_users_qty[0:-1]\n",
    "    .append(new_row,  ignore_index=True)\n",
    "    .sort_values('users', ascending=False)\n",
    ")\n",
    "funnel"
   ]
  },
  {
   "cell_type": "markdown",
   "id": "b2b6d7a2",
   "metadata": {},
   "source": [
    "Теперь отобразим воронку в виде графика, где укажем какая доля пользователей проходит на следующий шаг воронки (от числа пользователей на предыдущем)."
   ]
  },
  {
   "cell_type": "code",
   "execution_count": 56,
   "id": "acd8a9f0",
   "metadata": {
    "colab": {
     "base_uri": "https://localhost:8080/",
     "height": 542
    },
    "id": "acd8a9f0",
    "outputId": "678fb270-552b-492b-9847-7fd6e74fb7d4",
    "scrolled": false
   },
   "outputs": [
    {
     "data": {
      "application/vnd.plotly.v1+json": {
       "config": {
        "plotlyServerURL": "https://plot.ly"
       },
       "data": [
        {
         "textinfo": "value+percent previous",
         "type": "funnel",
         "x": [
          7534,
          7419,
          4593,
          3734,
          3539
         ],
         "y": [
          "total_users",
          "MainScreenAppear",
          "OffersScreenAppear",
          "CartScreenAppear",
          "PaymentScreenSuccessful"
         ]
        }
       ],
       "layout": {
        "template": {
         "data": {
          "bar": [
           {
            "error_x": {
             "color": "#2a3f5f"
            },
            "error_y": {
             "color": "#2a3f5f"
            },
            "marker": {
             "line": {
              "color": "#E5ECF6",
              "width": 0.5
             },
             "pattern": {
              "fillmode": "overlay",
              "size": 10,
              "solidity": 0.2
             }
            },
            "type": "bar"
           }
          ],
          "barpolar": [
           {
            "marker": {
             "line": {
              "color": "#E5ECF6",
              "width": 0.5
             },
             "pattern": {
              "fillmode": "overlay",
              "size": 10,
              "solidity": 0.2
             }
            },
            "type": "barpolar"
           }
          ],
          "carpet": [
           {
            "aaxis": {
             "endlinecolor": "#2a3f5f",
             "gridcolor": "white",
             "linecolor": "white",
             "minorgridcolor": "white",
             "startlinecolor": "#2a3f5f"
            },
            "baxis": {
             "endlinecolor": "#2a3f5f",
             "gridcolor": "white",
             "linecolor": "white",
             "minorgridcolor": "white",
             "startlinecolor": "#2a3f5f"
            },
            "type": "carpet"
           }
          ],
          "choropleth": [
           {
            "colorbar": {
             "outlinewidth": 0,
             "ticks": ""
            },
            "type": "choropleth"
           }
          ],
          "contour": [
           {
            "colorbar": {
             "outlinewidth": 0,
             "ticks": ""
            },
            "colorscale": [
             [
              0,
              "#0d0887"
             ],
             [
              0.1111111111111111,
              "#46039f"
             ],
             [
              0.2222222222222222,
              "#7201a8"
             ],
             [
              0.3333333333333333,
              "#9c179e"
             ],
             [
              0.4444444444444444,
              "#bd3786"
             ],
             [
              0.5555555555555556,
              "#d8576b"
             ],
             [
              0.6666666666666666,
              "#ed7953"
             ],
             [
              0.7777777777777778,
              "#fb9f3a"
             ],
             [
              0.8888888888888888,
              "#fdca26"
             ],
             [
              1,
              "#f0f921"
             ]
            ],
            "type": "contour"
           }
          ],
          "contourcarpet": [
           {
            "colorbar": {
             "outlinewidth": 0,
             "ticks": ""
            },
            "type": "contourcarpet"
           }
          ],
          "heatmap": [
           {
            "colorbar": {
             "outlinewidth": 0,
             "ticks": ""
            },
            "colorscale": [
             [
              0,
              "#0d0887"
             ],
             [
              0.1111111111111111,
              "#46039f"
             ],
             [
              0.2222222222222222,
              "#7201a8"
             ],
             [
              0.3333333333333333,
              "#9c179e"
             ],
             [
              0.4444444444444444,
              "#bd3786"
             ],
             [
              0.5555555555555556,
              "#d8576b"
             ],
             [
              0.6666666666666666,
              "#ed7953"
             ],
             [
              0.7777777777777778,
              "#fb9f3a"
             ],
             [
              0.8888888888888888,
              "#fdca26"
             ],
             [
              1,
              "#f0f921"
             ]
            ],
            "type": "heatmap"
           }
          ],
          "heatmapgl": [
           {
            "colorbar": {
             "outlinewidth": 0,
             "ticks": ""
            },
            "colorscale": [
             [
              0,
              "#0d0887"
             ],
             [
              0.1111111111111111,
              "#46039f"
             ],
             [
              0.2222222222222222,
              "#7201a8"
             ],
             [
              0.3333333333333333,
              "#9c179e"
             ],
             [
              0.4444444444444444,
              "#bd3786"
             ],
             [
              0.5555555555555556,
              "#d8576b"
             ],
             [
              0.6666666666666666,
              "#ed7953"
             ],
             [
              0.7777777777777778,
              "#fb9f3a"
             ],
             [
              0.8888888888888888,
              "#fdca26"
             ],
             [
              1,
              "#f0f921"
             ]
            ],
            "type": "heatmapgl"
           }
          ],
          "histogram": [
           {
            "marker": {
             "pattern": {
              "fillmode": "overlay",
              "size": 10,
              "solidity": 0.2
             }
            },
            "type": "histogram"
           }
          ],
          "histogram2d": [
           {
            "colorbar": {
             "outlinewidth": 0,
             "ticks": ""
            },
            "colorscale": [
             [
              0,
              "#0d0887"
             ],
             [
              0.1111111111111111,
              "#46039f"
             ],
             [
              0.2222222222222222,
              "#7201a8"
             ],
             [
              0.3333333333333333,
              "#9c179e"
             ],
             [
              0.4444444444444444,
              "#bd3786"
             ],
             [
              0.5555555555555556,
              "#d8576b"
             ],
             [
              0.6666666666666666,
              "#ed7953"
             ],
             [
              0.7777777777777778,
              "#fb9f3a"
             ],
             [
              0.8888888888888888,
              "#fdca26"
             ],
             [
              1,
              "#f0f921"
             ]
            ],
            "type": "histogram2d"
           }
          ],
          "histogram2dcontour": [
           {
            "colorbar": {
             "outlinewidth": 0,
             "ticks": ""
            },
            "colorscale": [
             [
              0,
              "#0d0887"
             ],
             [
              0.1111111111111111,
              "#46039f"
             ],
             [
              0.2222222222222222,
              "#7201a8"
             ],
             [
              0.3333333333333333,
              "#9c179e"
             ],
             [
              0.4444444444444444,
              "#bd3786"
             ],
             [
              0.5555555555555556,
              "#d8576b"
             ],
             [
              0.6666666666666666,
              "#ed7953"
             ],
             [
              0.7777777777777778,
              "#fb9f3a"
             ],
             [
              0.8888888888888888,
              "#fdca26"
             ],
             [
              1,
              "#f0f921"
             ]
            ],
            "type": "histogram2dcontour"
           }
          ],
          "mesh3d": [
           {
            "colorbar": {
             "outlinewidth": 0,
             "ticks": ""
            },
            "type": "mesh3d"
           }
          ],
          "parcoords": [
           {
            "line": {
             "colorbar": {
              "outlinewidth": 0,
              "ticks": ""
             }
            },
            "type": "parcoords"
           }
          ],
          "pie": [
           {
            "automargin": true,
            "type": "pie"
           }
          ],
          "scatter": [
           {
            "marker": {
             "colorbar": {
              "outlinewidth": 0,
              "ticks": ""
             }
            },
            "type": "scatter"
           }
          ],
          "scatter3d": [
           {
            "line": {
             "colorbar": {
              "outlinewidth": 0,
              "ticks": ""
             }
            },
            "marker": {
             "colorbar": {
              "outlinewidth": 0,
              "ticks": ""
             }
            },
            "type": "scatter3d"
           }
          ],
          "scattercarpet": [
           {
            "marker": {
             "colorbar": {
              "outlinewidth": 0,
              "ticks": ""
             }
            },
            "type": "scattercarpet"
           }
          ],
          "scattergeo": [
           {
            "marker": {
             "colorbar": {
              "outlinewidth": 0,
              "ticks": ""
             }
            },
            "type": "scattergeo"
           }
          ],
          "scattergl": [
           {
            "marker": {
             "colorbar": {
              "outlinewidth": 0,
              "ticks": ""
             }
            },
            "type": "scattergl"
           }
          ],
          "scattermapbox": [
           {
            "marker": {
             "colorbar": {
              "outlinewidth": 0,
              "ticks": ""
             }
            },
            "type": "scattermapbox"
           }
          ],
          "scatterpolar": [
           {
            "marker": {
             "colorbar": {
              "outlinewidth": 0,
              "ticks": ""
             }
            },
            "type": "scatterpolar"
           }
          ],
          "scatterpolargl": [
           {
            "marker": {
             "colorbar": {
              "outlinewidth": 0,
              "ticks": ""
             }
            },
            "type": "scatterpolargl"
           }
          ],
          "scatterternary": [
           {
            "marker": {
             "colorbar": {
              "outlinewidth": 0,
              "ticks": ""
             }
            },
            "type": "scatterternary"
           }
          ],
          "surface": [
           {
            "colorbar": {
             "outlinewidth": 0,
             "ticks": ""
            },
            "colorscale": [
             [
              0,
              "#0d0887"
             ],
             [
              0.1111111111111111,
              "#46039f"
             ],
             [
              0.2222222222222222,
              "#7201a8"
             ],
             [
              0.3333333333333333,
              "#9c179e"
             ],
             [
              0.4444444444444444,
              "#bd3786"
             ],
             [
              0.5555555555555556,
              "#d8576b"
             ],
             [
              0.6666666666666666,
              "#ed7953"
             ],
             [
              0.7777777777777778,
              "#fb9f3a"
             ],
             [
              0.8888888888888888,
              "#fdca26"
             ],
             [
              1,
              "#f0f921"
             ]
            ],
            "type": "surface"
           }
          ],
          "table": [
           {
            "cells": {
             "fill": {
              "color": "#EBF0F8"
             },
             "line": {
              "color": "white"
             }
            },
            "header": {
             "fill": {
              "color": "#C8D4E3"
             },
             "line": {
              "color": "white"
             }
            },
            "type": "table"
           }
          ]
         },
         "layout": {
          "annotationdefaults": {
           "arrowcolor": "#2a3f5f",
           "arrowhead": 0,
           "arrowwidth": 1
          },
          "autotypenumbers": "strict",
          "coloraxis": {
           "colorbar": {
            "outlinewidth": 0,
            "ticks": ""
           }
          },
          "colorscale": {
           "diverging": [
            [
             0,
             "#8e0152"
            ],
            [
             0.1,
             "#c51b7d"
            ],
            [
             0.2,
             "#de77ae"
            ],
            [
             0.3,
             "#f1b6da"
            ],
            [
             0.4,
             "#fde0ef"
            ],
            [
             0.5,
             "#f7f7f7"
            ],
            [
             0.6,
             "#e6f5d0"
            ],
            [
             0.7,
             "#b8e186"
            ],
            [
             0.8,
             "#7fbc41"
            ],
            [
             0.9,
             "#4d9221"
            ],
            [
             1,
             "#276419"
            ]
           ],
           "sequential": [
            [
             0,
             "#0d0887"
            ],
            [
             0.1111111111111111,
             "#46039f"
            ],
            [
             0.2222222222222222,
             "#7201a8"
            ],
            [
             0.3333333333333333,
             "#9c179e"
            ],
            [
             0.4444444444444444,
             "#bd3786"
            ],
            [
             0.5555555555555556,
             "#d8576b"
            ],
            [
             0.6666666666666666,
             "#ed7953"
            ],
            [
             0.7777777777777778,
             "#fb9f3a"
            ],
            [
             0.8888888888888888,
             "#fdca26"
            ],
            [
             1,
             "#f0f921"
            ]
           ],
           "sequentialminus": [
            [
             0,
             "#0d0887"
            ],
            [
             0.1111111111111111,
             "#46039f"
            ],
            [
             0.2222222222222222,
             "#7201a8"
            ],
            [
             0.3333333333333333,
             "#9c179e"
            ],
            [
             0.4444444444444444,
             "#bd3786"
            ],
            [
             0.5555555555555556,
             "#d8576b"
            ],
            [
             0.6666666666666666,
             "#ed7953"
            ],
            [
             0.7777777777777778,
             "#fb9f3a"
            ],
            [
             0.8888888888888888,
             "#fdca26"
            ],
            [
             1,
             "#f0f921"
            ]
           ]
          },
          "colorway": [
           "#636efa",
           "#EF553B",
           "#00cc96",
           "#ab63fa",
           "#FFA15A",
           "#19d3f3",
           "#FF6692",
           "#B6E880",
           "#FF97FF",
           "#FECB52"
          ],
          "font": {
           "color": "#2a3f5f"
          },
          "geo": {
           "bgcolor": "white",
           "lakecolor": "white",
           "landcolor": "#E5ECF6",
           "showlakes": true,
           "showland": true,
           "subunitcolor": "white"
          },
          "hoverlabel": {
           "align": "left"
          },
          "hovermode": "closest",
          "mapbox": {
           "style": "light"
          },
          "paper_bgcolor": "white",
          "plot_bgcolor": "#E5ECF6",
          "polar": {
           "angularaxis": {
            "gridcolor": "white",
            "linecolor": "white",
            "ticks": ""
           },
           "bgcolor": "#E5ECF6",
           "radialaxis": {
            "gridcolor": "white",
            "linecolor": "white",
            "ticks": ""
           }
          },
          "scene": {
           "xaxis": {
            "backgroundcolor": "#E5ECF6",
            "gridcolor": "white",
            "gridwidth": 2,
            "linecolor": "white",
            "showbackground": true,
            "ticks": "",
            "zerolinecolor": "white"
           },
           "yaxis": {
            "backgroundcolor": "#E5ECF6",
            "gridcolor": "white",
            "gridwidth": 2,
            "linecolor": "white",
            "showbackground": true,
            "ticks": "",
            "zerolinecolor": "white"
           },
           "zaxis": {
            "backgroundcolor": "#E5ECF6",
            "gridcolor": "white",
            "gridwidth": 2,
            "linecolor": "white",
            "showbackground": true,
            "ticks": "",
            "zerolinecolor": "white"
           }
          },
          "shapedefaults": {
           "line": {
            "color": "#2a3f5f"
           }
          },
          "ternary": {
           "aaxis": {
            "gridcolor": "white",
            "linecolor": "white",
            "ticks": ""
           },
           "baxis": {
            "gridcolor": "white",
            "linecolor": "white",
            "ticks": ""
           },
           "bgcolor": "#E5ECF6",
           "caxis": {
            "gridcolor": "white",
            "linecolor": "white",
            "ticks": ""
           }
          },
          "title": {
           "x": 0.05
          },
          "xaxis": {
           "automargin": true,
           "gridcolor": "white",
           "linecolor": "white",
           "ticks": "",
           "title": {
            "standoff": 15
           },
           "zerolinecolor": "white",
           "zerolinewidth": 2
          },
          "yaxis": {
           "automargin": true,
           "gridcolor": "white",
           "linecolor": "white",
           "ticks": "",
           "title": {
            "standoff": 15
           },
           "zerolinecolor": "white",
           "zerolinewidth": 2
          }
         }
        }
       }
      },
      "text/html": [
       "<div>                            <div id=\"ed23cb1b-fc1d-4ddd-9bdb-299a6edeb5e6\" class=\"plotly-graph-div\" style=\"height:525px; width:100%;\"></div>            <script type=\"text/javascript\">                require([\"plotly\"], function(Plotly) {                    window.PLOTLYENV=window.PLOTLYENV || {};                                    if (document.getElementById(\"ed23cb1b-fc1d-4ddd-9bdb-299a6edeb5e6\")) {                    Plotly.newPlot(                        \"ed23cb1b-fc1d-4ddd-9bdb-299a6edeb5e6\",                        [{\"textinfo\":\"value+percent previous\",\"type\":\"funnel\",\"x\":[7534,7419,4593,3734,3539],\"y\":[\"total_users\",\"MainScreenAppear\",\"OffersScreenAppear\",\"CartScreenAppear\",\"PaymentScreenSuccessful\"]}],                        {\"template\":{\"data\":{\"bar\":[{\"error_x\":{\"color\":\"#2a3f5f\"},\"error_y\":{\"color\":\"#2a3f5f\"},\"marker\":{\"line\":{\"color\":\"#E5ECF6\",\"width\":0.5},\"pattern\":{\"fillmode\":\"overlay\",\"size\":10,\"solidity\":0.2}},\"type\":\"bar\"}],\"barpolar\":[{\"marker\":{\"line\":{\"color\":\"#E5ECF6\",\"width\":0.5},\"pattern\":{\"fillmode\":\"overlay\",\"size\":10,\"solidity\":0.2}},\"type\":\"barpolar\"}],\"carpet\":[{\"aaxis\":{\"endlinecolor\":\"#2a3f5f\",\"gridcolor\":\"white\",\"linecolor\":\"white\",\"minorgridcolor\":\"white\",\"startlinecolor\":\"#2a3f5f\"},\"baxis\":{\"endlinecolor\":\"#2a3f5f\",\"gridcolor\":\"white\",\"linecolor\":\"white\",\"minorgridcolor\":\"white\",\"startlinecolor\":\"#2a3f5f\"},\"type\":\"carpet\"}],\"choropleth\":[{\"colorbar\":{\"outlinewidth\":0,\"ticks\":\"\"},\"type\":\"choropleth\"}],\"contour\":[{\"colorbar\":{\"outlinewidth\":0,\"ticks\":\"\"},\"colorscale\":[[0.0,\"#0d0887\"],[0.1111111111111111,\"#46039f\"],[0.2222222222222222,\"#7201a8\"],[0.3333333333333333,\"#9c179e\"],[0.4444444444444444,\"#bd3786\"],[0.5555555555555556,\"#d8576b\"],[0.6666666666666666,\"#ed7953\"],[0.7777777777777778,\"#fb9f3a\"],[0.8888888888888888,\"#fdca26\"],[1.0,\"#f0f921\"]],\"type\":\"contour\"}],\"contourcarpet\":[{\"colorbar\":{\"outlinewidth\":0,\"ticks\":\"\"},\"type\":\"contourcarpet\"}],\"heatmap\":[{\"colorbar\":{\"outlinewidth\":0,\"ticks\":\"\"},\"colorscale\":[[0.0,\"#0d0887\"],[0.1111111111111111,\"#46039f\"],[0.2222222222222222,\"#7201a8\"],[0.3333333333333333,\"#9c179e\"],[0.4444444444444444,\"#bd3786\"],[0.5555555555555556,\"#d8576b\"],[0.6666666666666666,\"#ed7953\"],[0.7777777777777778,\"#fb9f3a\"],[0.8888888888888888,\"#fdca26\"],[1.0,\"#f0f921\"]],\"type\":\"heatmap\"}],\"heatmapgl\":[{\"colorbar\":{\"outlinewidth\":0,\"ticks\":\"\"},\"colorscale\":[[0.0,\"#0d0887\"],[0.1111111111111111,\"#46039f\"],[0.2222222222222222,\"#7201a8\"],[0.3333333333333333,\"#9c179e\"],[0.4444444444444444,\"#bd3786\"],[0.5555555555555556,\"#d8576b\"],[0.6666666666666666,\"#ed7953\"],[0.7777777777777778,\"#fb9f3a\"],[0.8888888888888888,\"#fdca26\"],[1.0,\"#f0f921\"]],\"type\":\"heatmapgl\"}],\"histogram\":[{\"marker\":{\"pattern\":{\"fillmode\":\"overlay\",\"size\":10,\"solidity\":0.2}},\"type\":\"histogram\"}],\"histogram2d\":[{\"colorbar\":{\"outlinewidth\":0,\"ticks\":\"\"},\"colorscale\":[[0.0,\"#0d0887\"],[0.1111111111111111,\"#46039f\"],[0.2222222222222222,\"#7201a8\"],[0.3333333333333333,\"#9c179e\"],[0.4444444444444444,\"#bd3786\"],[0.5555555555555556,\"#d8576b\"],[0.6666666666666666,\"#ed7953\"],[0.7777777777777778,\"#fb9f3a\"],[0.8888888888888888,\"#fdca26\"],[1.0,\"#f0f921\"]],\"type\":\"histogram2d\"}],\"histogram2dcontour\":[{\"colorbar\":{\"outlinewidth\":0,\"ticks\":\"\"},\"colorscale\":[[0.0,\"#0d0887\"],[0.1111111111111111,\"#46039f\"],[0.2222222222222222,\"#7201a8\"],[0.3333333333333333,\"#9c179e\"],[0.4444444444444444,\"#bd3786\"],[0.5555555555555556,\"#d8576b\"],[0.6666666666666666,\"#ed7953\"],[0.7777777777777778,\"#fb9f3a\"],[0.8888888888888888,\"#fdca26\"],[1.0,\"#f0f921\"]],\"type\":\"histogram2dcontour\"}],\"mesh3d\":[{\"colorbar\":{\"outlinewidth\":0,\"ticks\":\"\"},\"type\":\"mesh3d\"}],\"parcoords\":[{\"line\":{\"colorbar\":{\"outlinewidth\":0,\"ticks\":\"\"}},\"type\":\"parcoords\"}],\"pie\":[{\"automargin\":true,\"type\":\"pie\"}],\"scatter\":[{\"marker\":{\"colorbar\":{\"outlinewidth\":0,\"ticks\":\"\"}},\"type\":\"scatter\"}],\"scatter3d\":[{\"line\":{\"colorbar\":{\"outlinewidth\":0,\"ticks\":\"\"}},\"marker\":{\"colorbar\":{\"outlinewidth\":0,\"ticks\":\"\"}},\"type\":\"scatter3d\"}],\"scattercarpet\":[{\"marker\":{\"colorbar\":{\"outlinewidth\":0,\"ticks\":\"\"}},\"type\":\"scattercarpet\"}],\"scattergeo\":[{\"marker\":{\"colorbar\":{\"outlinewidth\":0,\"ticks\":\"\"}},\"type\":\"scattergeo\"}],\"scattergl\":[{\"marker\":{\"colorbar\":{\"outlinewidth\":0,\"ticks\":\"\"}},\"type\":\"scattergl\"}],\"scattermapbox\":[{\"marker\":{\"colorbar\":{\"outlinewidth\":0,\"ticks\":\"\"}},\"type\":\"scattermapbox\"}],\"scatterpolar\":[{\"marker\":{\"colorbar\":{\"outlinewidth\":0,\"ticks\":\"\"}},\"type\":\"scatterpolar\"}],\"scatterpolargl\":[{\"marker\":{\"colorbar\":{\"outlinewidth\":0,\"ticks\":\"\"}},\"type\":\"scatterpolargl\"}],\"scatterternary\":[{\"marker\":{\"colorbar\":{\"outlinewidth\":0,\"ticks\":\"\"}},\"type\":\"scatterternary\"}],\"surface\":[{\"colorbar\":{\"outlinewidth\":0,\"ticks\":\"\"},\"colorscale\":[[0.0,\"#0d0887\"],[0.1111111111111111,\"#46039f\"],[0.2222222222222222,\"#7201a8\"],[0.3333333333333333,\"#9c179e\"],[0.4444444444444444,\"#bd3786\"],[0.5555555555555556,\"#d8576b\"],[0.6666666666666666,\"#ed7953\"],[0.7777777777777778,\"#fb9f3a\"],[0.8888888888888888,\"#fdca26\"],[1.0,\"#f0f921\"]],\"type\":\"surface\"}],\"table\":[{\"cells\":{\"fill\":{\"color\":\"#EBF0F8\"},\"line\":{\"color\":\"white\"}},\"header\":{\"fill\":{\"color\":\"#C8D4E3\"},\"line\":{\"color\":\"white\"}},\"type\":\"table\"}]},\"layout\":{\"annotationdefaults\":{\"arrowcolor\":\"#2a3f5f\",\"arrowhead\":0,\"arrowwidth\":1},\"autotypenumbers\":\"strict\",\"coloraxis\":{\"colorbar\":{\"outlinewidth\":0,\"ticks\":\"\"}},\"colorscale\":{\"diverging\":[[0,\"#8e0152\"],[0.1,\"#c51b7d\"],[0.2,\"#de77ae\"],[0.3,\"#f1b6da\"],[0.4,\"#fde0ef\"],[0.5,\"#f7f7f7\"],[0.6,\"#e6f5d0\"],[0.7,\"#b8e186\"],[0.8,\"#7fbc41\"],[0.9,\"#4d9221\"],[1,\"#276419\"]],\"sequential\":[[0.0,\"#0d0887\"],[0.1111111111111111,\"#46039f\"],[0.2222222222222222,\"#7201a8\"],[0.3333333333333333,\"#9c179e\"],[0.4444444444444444,\"#bd3786\"],[0.5555555555555556,\"#d8576b\"],[0.6666666666666666,\"#ed7953\"],[0.7777777777777778,\"#fb9f3a\"],[0.8888888888888888,\"#fdca26\"],[1.0,\"#f0f921\"]],\"sequentialminus\":[[0.0,\"#0d0887\"],[0.1111111111111111,\"#46039f\"],[0.2222222222222222,\"#7201a8\"],[0.3333333333333333,\"#9c179e\"],[0.4444444444444444,\"#bd3786\"],[0.5555555555555556,\"#d8576b\"],[0.6666666666666666,\"#ed7953\"],[0.7777777777777778,\"#fb9f3a\"],[0.8888888888888888,\"#fdca26\"],[1.0,\"#f0f921\"]]},\"colorway\":[\"#636efa\",\"#EF553B\",\"#00cc96\",\"#ab63fa\",\"#FFA15A\",\"#19d3f3\",\"#FF6692\",\"#B6E880\",\"#FF97FF\",\"#FECB52\"],\"font\":{\"color\":\"#2a3f5f\"},\"geo\":{\"bgcolor\":\"white\",\"lakecolor\":\"white\",\"landcolor\":\"#E5ECF6\",\"showlakes\":true,\"showland\":true,\"subunitcolor\":\"white\"},\"hoverlabel\":{\"align\":\"left\"},\"hovermode\":\"closest\",\"mapbox\":{\"style\":\"light\"},\"paper_bgcolor\":\"white\",\"plot_bgcolor\":\"#E5ECF6\",\"polar\":{\"angularaxis\":{\"gridcolor\":\"white\",\"linecolor\":\"white\",\"ticks\":\"\"},\"bgcolor\":\"#E5ECF6\",\"radialaxis\":{\"gridcolor\":\"white\",\"linecolor\":\"white\",\"ticks\":\"\"}},\"scene\":{\"xaxis\":{\"backgroundcolor\":\"#E5ECF6\",\"gridcolor\":\"white\",\"gridwidth\":2,\"linecolor\":\"white\",\"showbackground\":true,\"ticks\":\"\",\"zerolinecolor\":\"white\"},\"yaxis\":{\"backgroundcolor\":\"#E5ECF6\",\"gridcolor\":\"white\",\"gridwidth\":2,\"linecolor\":\"white\",\"showbackground\":true,\"ticks\":\"\",\"zerolinecolor\":\"white\"},\"zaxis\":{\"backgroundcolor\":\"#E5ECF6\",\"gridcolor\":\"white\",\"gridwidth\":2,\"linecolor\":\"white\",\"showbackground\":true,\"ticks\":\"\",\"zerolinecolor\":\"white\"}},\"shapedefaults\":{\"line\":{\"color\":\"#2a3f5f\"}},\"ternary\":{\"aaxis\":{\"gridcolor\":\"white\",\"linecolor\":\"white\",\"ticks\":\"\"},\"baxis\":{\"gridcolor\":\"white\",\"linecolor\":\"white\",\"ticks\":\"\"},\"bgcolor\":\"#E5ECF6\",\"caxis\":{\"gridcolor\":\"white\",\"linecolor\":\"white\",\"ticks\":\"\"}},\"title\":{\"x\":0.05},\"xaxis\":{\"automargin\":true,\"gridcolor\":\"white\",\"linecolor\":\"white\",\"ticks\":\"\",\"title\":{\"standoff\":15},\"zerolinecolor\":\"white\",\"zerolinewidth\":2},\"yaxis\":{\"automargin\":true,\"gridcolor\":\"white\",\"linecolor\":\"white\",\"ticks\":\"\",\"title\":{\"standoff\":15},\"zerolinecolor\":\"white\",\"zerolinewidth\":2}}}},                        {\"responsive\": true}                    ).then(function(){\n",
       "                            \n",
       "var gd = document.getElementById('ed23cb1b-fc1d-4ddd-9bdb-299a6edeb5e6');\n",
       "var x = new MutationObserver(function (mutations, observer) {{\n",
       "        var display = window.getComputedStyle(gd).display;\n",
       "        if (!display || display === 'none') {{\n",
       "            console.log([gd, 'removed!']);\n",
       "            Plotly.purge(gd);\n",
       "            observer.disconnect();\n",
       "        }}\n",
       "}});\n",
       "\n",
       "// Listen for the removal of the full notebook cells\n",
       "var notebookContainer = gd.closest('#notebook-container');\n",
       "if (notebookContainer) {{\n",
       "    x.observe(notebookContainer, {childList: true});\n",
       "}}\n",
       "\n",
       "// Listen for the clearing of the current output cell\n",
       "var outputEl = gd.closest('.output');\n",
       "if (outputEl) {{\n",
       "    x.observe(outputEl, {childList: true});\n",
       "}}\n",
       "\n",
       "                        })                };                });            </script>        </div>"
      ]
     },
     "metadata": {},
     "output_type": "display_data"
    }
   ],
   "source": [
    "fig = go.Figure(\n",
    "    go.Funnel(\n",
    "        y=funnel['event_name'],\n",
    "        x=funnel['users'],\n",
    "        textinfo = \"value+percent previous\"\n",
    "        )\n",
    "    )\n",
    "fig.show()"
   ]
  },
  {
   "cell_type": "markdown",
   "id": "13aa73af",
   "metadata": {
    "id": "13aa73af"
   },
   "source": [
    "**Выводы по воронке:**\n",
    "* Не все 100% оказываются на главном экране - либо не все пользователи зашли в приложение после его установки, либо в приложении есть техническая возможность миновать этот шаг.\n",
    "* 47% пользователей доходят до оплаты от всех, пришедших в приложение.\n",
    "* Больше всего пользователей теряется на этапе перехода к экрану с предложением товара - до этого шага не доходят 38% пользователей, прошедших предыдущий шаг, оказавшись на главном экране. Здесь видится точка роста.  Нужно приложить усилия по привлечению пользователей на страницы с предложением товара/услуги."
   ]
  },
  {
   "cell_type": "markdown",
   "id": "3f35f935",
   "metadata": {
    "id": "3f35f935"
   },
   "source": [
    "## Результаты эксперимента"
   ]
  },
  {
   "cell_type": "markdown",
   "id": "26820ebf",
   "metadata": {},
   "source": [
    "В этом разделе проанализируем результата А/А/В-эксперимента, в котором одна из групп пользователей пользовалась приложением с изменёнными шрифтами. Проверим, повлияло ли это на конверсию перехода клиентов с одного шага воронки на следующий."
   ]
  },
  {
   "cell_type": "markdown",
   "id": "b0d2dec0",
   "metadata": {
    "id": "b0d2dec0"
   },
   "source": [
    "### Количество пользователей в каждой группе"
   ]
  },
  {
   "cell_type": "markdown",
   "id": "74906c18",
   "metadata": {
    "id": "74906c18"
   },
   "source": [
    "**Проверим одно из главных условий А/В-тестирования - необходимо, чтобы каждый из пользователей попал только в одну из групп исследования.**"
   ]
  },
  {
   "cell_type": "code",
   "execution_count": 34,
   "id": "af28ac71",
   "metadata": {
    "colab": {
     "base_uri": "https://localhost:8080/",
     "height": 81
    },
    "id": "af28ac71",
    "outputId": "cd829f8d-d803-4969-f4de-ee532ac957b1",
    "scrolled": false
   },
   "outputs": [
    {
     "data": {
      "text/html": [
       "<div>\n",
       "<style scoped>\n",
       "    .dataframe tbody tr th:only-of-type {\n",
       "        vertical-align: middle;\n",
       "    }\n",
       "\n",
       "    .dataframe tbody tr th {\n",
       "        vertical-align: top;\n",
       "    }\n",
       "\n",
       "    .dataframe thead th {\n",
       "        text-align: right;\n",
       "    }\n",
       "</style>\n",
       "<table border=\"1\" class=\"dataframe\">\n",
       "  <thead>\n",
       "    <tr style=\"text-align: right;\">\n",
       "      <th></th>\n",
       "      <th>groups</th>\n",
       "      <th>group_names</th>\n",
       "    </tr>\n",
       "    <tr>\n",
       "      <th>user_id</th>\n",
       "      <th></th>\n",
       "      <th></th>\n",
       "    </tr>\n",
       "  </thead>\n",
       "  <tbody>\n",
       "  </tbody>\n",
       "</table>\n",
       "</div>"
      ],
      "text/plain": [
       "Empty DataFrame\n",
       "Columns: [groups, group_names]\n",
       "Index: []"
      ]
     },
     "execution_count": 34,
     "metadata": {},
     "output_type": "execute_result"
    }
   ],
   "source": [
    "# находим список ID пользователей, попавших в несколько групп\n",
    "duplicated_users = df.groupby('user_id').agg({'group': ['nunique', 'unique']})\n",
    "duplicated_users.columns = ['groups', 'group_names']\n",
    "duplicated_users = duplicated_users.query('groups > 1')\n",
    "\n",
    "duplicated_users"
   ]
  },
  {
   "cell_type": "markdown",
   "id": "0137c5da",
   "metadata": {
    "id": "0137c5da"
   },
   "source": [
    "Список пустой, а значит разделение клиентов по группам прошло безошибочно, каждый из пользователей попал в одну конкретную группу."
   ]
  },
  {
   "cell_type": "markdown",
   "id": "d090c7c6",
   "metadata": {
    "id": "d090c7c6"
   },
   "source": [
    "**Посчитаем, сколько пользователей попало в каждую группу.**"
   ]
  },
  {
   "cell_type": "code",
   "execution_count": 35,
   "id": "RQxLqmvXdnlh",
   "metadata": {
    "colab": {
     "base_uri": "https://localhost:8080/",
     "height": 175
    },
    "id": "RQxLqmvXdnlh",
    "outputId": "df410a07-17cb-43fe-8977-792fb069e968"
   },
   "outputs": [
    {
     "data": {
      "text/html": [
       "<div>\n",
       "<style scoped>\n",
       "    .dataframe tbody tr th:only-of-type {\n",
       "        vertical-align: middle;\n",
       "    }\n",
       "\n",
       "    .dataframe tbody tr th {\n",
       "        vertical-align: top;\n",
       "    }\n",
       "\n",
       "    .dataframe thead th {\n",
       "        text-align: right;\n",
       "    }\n",
       "</style>\n",
       "<table border=\"1\" class=\"dataframe\">\n",
       "  <thead>\n",
       "    <tr style=\"text-align: right;\">\n",
       "      <th></th>\n",
       "      <th>quantity</th>\n",
       "    </tr>\n",
       "    <tr>\n",
       "      <th>group</th>\n",
       "      <th></th>\n",
       "    </tr>\n",
       "  </thead>\n",
       "  <tbody>\n",
       "    <tr>\n",
       "      <th>246</th>\n",
       "      <td>2484</td>\n",
       "    </tr>\n",
       "    <tr>\n",
       "      <th>247</th>\n",
       "      <td>2513</td>\n",
       "    </tr>\n",
       "    <tr>\n",
       "      <th>248</th>\n",
       "      <td>2537</td>\n",
       "    </tr>\n",
       "  </tbody>\n",
       "</table>\n",
       "</div>"
      ],
      "text/plain": [
       "       quantity\n",
       "group          \n",
       "246        2484\n",
       "247        2513\n",
       "248        2537"
      ]
     },
     "execution_count": 35,
     "metadata": {},
     "output_type": "execute_result"
    }
   ],
   "source": [
    "group_quantity = df.groupby('group').agg({'user_id': 'nunique'}).rename(columns={'user_id':'quantity'})\n",
    "group_quantity"
   ]
  },
  {
   "cell_type": "code",
   "execution_count": 36,
   "id": "YvdiXXSuggXo",
   "metadata": {
    "colab": {
     "base_uri": "https://localhost:8080/",
     "height": 338
    },
    "id": "YvdiXXSuggXo",
    "outputId": "55e7e093-0fc9-40c1-a4c5-ea38e1d8dd71",
    "scrolled": true
   },
   "outputs": [
    {
     "data": {
      "image/png": "[encoded data removed]",
      "text/plain": [
       "<Figure size 504x360 with 1 Axes>"
      ]
     },
     "metadata": {
      "needs_background": "light"
     },
     "output_type": "display_data"
    }
   ],
   "source": [
    "group_quantity.plot(\n",
    "    kind='bar',\n",
    "    title='Количество пользователей в группах эксперимента',\n",
    "    ylabel='человек',\n",
    "    xlabel='Группы пользователей',\n",
    "    grid=True,\n",
    "    figsize=(7, 5),\n",
    "    ylim=(2000, 2600),\n",
    "    rot=0,\n",
    "    legend=False\n",
    ")\n",
    "plt.show()"
   ]
  },
  {
   "cell_type": "markdown",
   "id": "492432a7",
   "metadata": {},
   "source": [
    "Явных перекосов в количестве групп нет.\n",
    "\n",
    "Одним из критериев успешного А/А-теста является условие о том, что количество пользователей в различных группах должно различаться не более, чем на 1%. Проверим эту разницу:"
   ]
  },
  {
   "cell_type": "code",
   "execution_count": 59,
   "id": "03321029",
   "metadata": {},
   "outputs": [
    {
     "data": {
      "text/plain": [
       "1.1674718196457379"
      ]
     },
     "execution_count": 59,
     "metadata": {},
     "output_type": "execute_result"
    }
   ],
   "source": [
    "(2513/2484-1)*100"
   ]
  },
  {
   "cell_type": "markdown",
   "id": "96dfcf42",
   "metadata": {},
   "source": [
    "Разница в численности групп 246 и 247 составляет около 1%. Будем считать что результаты А/А-тест можно успешно принять во внимание. Теперь чтобы проверить корректность всех механизмов и расчётов, следует понять, есть ли статистически значимая разница между показателями этих групп."
   ]
  },
  {
   "cell_type": "markdown",
   "id": "63c43795",
   "metadata": {
    "id": "63c43795"
   },
   "source": [
    "### Проверка различия между группами А/А"
   ]
  },
  {
   "cell_type": "markdown",
   "id": "689fe1b0",
   "metadata": {},
   "source": [
    "Здесь проверим, есть ли различие ключевых метрик в группах А/А нашего тестирования.  Ключевой метрикой является конверсия пользователей, переходящих с одного события воронки в следующее.  Поэтому мы сравним доли пользователей, совершивших каждое событие из воронки, относительно общего количества пользователей в группах.\n",
    "\n",
    "Если трафик и инструмент проведения A/A-теста не подвели, различий в показателях не будет. \n",
    "\n",
    "Это проверка гипотез о равенстве долей, а значит проверять гипотезы будем с помощью z-критерия."
   ]
  },
  {
   "cell_type": "markdown",
   "id": "98sGm5uJ9RjJ",
   "metadata": {
    "id": "98sGm5uJ9RjJ"
   },
   "source": [
    "Напишем **функцию** для проведения z-теста, которая на вход принимает данные о событии в воронке (для которого мы хотим рассчитать долю пользователей), и номера двух групп, между которыми исследуется различие."
   ]
  },
  {
   "cell_type": "code",
   "execution_count": 38,
   "id": "4e31be2e",
   "metadata": {},
   "outputs": [],
   "source": [
    "def z_test(event, group_1, group_2):\n",
    "    \n",
    "    alpha = .05 # критический уровень статистической значимости\n",
    "    \n",
    "    successes_1 = df[df['group'] == group_1]\n",
    "    successes_1 = successes_1[successes_1['event_name'] == event]['user_id'].nunique()\n",
    "    successes_2 = df[df['group'] == group_2]\n",
    "    successes_2 = successes_2[successes_2['event_name'] == event]['user_id'].nunique()\n",
    "\n",
    "    trials_1 = df[df['group'] == group_1]['user_id'].nunique()\n",
    "    trials_2 = df[df['group'] == group_2]['user_id'].nunique()\n",
    "\n",
    "    successes = np.array([successes_1, successes_2])\n",
    "    trials = np.array([trials_1, trials_2])\n",
    "\n",
    "    # пропорция успехов в первой группе:\n",
    "    p1 = successes[0]/trials[0]\n",
    "\n",
    "    # пропорция успехов во второй группе:\n",
    "    p2 = successes[1]/trials[1]\n",
    "\n",
    "    # пропорция успехов в комбинированном датасете:\n",
    "    p_combined = (successes[0] + successes[1]) / (trials[0] + trials[1])\n",
    "\n",
    "    # разница пропорций в датасетах\n",
    "    difference = p1 - p2 \n",
    "\n",
    "\n",
    "    # считаем статистику в ст.отклонениях стандартного нормального распределения\n",
    "    z_value = difference / mth.sqrt(\n",
    "        p_combined * (1 - p_combined) * (1 / trials[0] + 1 / trials[1])\n",
    "    )\n",
    "\n",
    "    # задаем стандартное нормальное распределение (среднее 0, ст.отклонение 1)\n",
    "    distr = st.norm(0, 1)\n",
    "\n",
    "    p_value = (1 - distr.cdf(abs(z_value))) * 2\n",
    "    \n",
    "    print('Для события {}'.format(event))\n",
    "    print('p-значение: ', p_value)\n",
    "\n",
    "    if p_value < alpha:\n",
    "        print('Отвергаем нулевую гипотезу: между долями есть значимая разница')\n",
    "    else:\n",
    "        print(\n",
    "            'Не получилось отвергнуть нулевую гипотезу, нет оснований считать доли разными'\n",
    "        )\n",
    "    print()"
   ]
  },
  {
   "cell_type": "markdown",
   "id": "KyrtGzcO9uq2",
   "metadata": {
    "id": "KyrtGzcO9uq2"
   },
   "source": [
    "Сформируем список из событий воронки, который будем использовать в цикле."
   ]
  },
  {
   "cell_type": "code",
   "execution_count": 39,
   "id": "3a06c50a",
   "metadata": {
    "scrolled": false
   },
   "outputs": [
    {
     "data": {
      "text/plain": [
       "['MainScreenAppear',\n",
       " 'OffersScreenAppear',\n",
       " 'CartScreenAppear',\n",
       " 'PaymentScreenSuccessful']"
      ]
     },
     "execution_count": 39,
     "metadata": {},
     "output_type": "execute_result"
    }
   ],
   "source": [
    "# список событий воронки\n",
    "events = list(df['event_name'].unique())\n",
    "events = events[1:]\n",
    "events"
   ]
  },
  {
   "cell_type": "markdown",
   "id": "1bb90b15",
   "metadata": {},
   "source": [
    "**Сформулируем гипотезы для каждого из событий воронки.**\n",
    "\n",
    "H₀: в группах 246 и 247 доли пользователей, совершивших конкретно взятое событие воронки, равны. \\\n",
    "H₁: в группах 246 и 247 доли пользователей, совершивших конкретно взятое событие воронки, различаются."
   ]
  },
  {
   "cell_type": "code",
   "execution_count": 40,
   "id": "b8f2078f",
   "metadata": {
    "scrolled": true
   },
   "outputs": [
    {
     "name": "stdout",
     "output_type": "stream",
     "text": [
      "Для события MainScreenAppear\n",
      "p-значение:  0.7570597232046099\n",
      "Не получилось отвергнуть нулевую гипотезу, нет оснований считать доли разными\n",
      "\n",
      "Для события OffersScreenAppear\n",
      "p-значение:  0.2480954578522181\n",
      "Не получилось отвергнуть нулевую гипотезу, нет оснований считать доли разными\n",
      "\n",
      "Для события CartScreenAppear\n",
      "p-значение:  0.22883372237997213\n",
      "Не получилось отвергнуть нулевую гипотезу, нет оснований считать доли разными\n",
      "\n",
      "Для события PaymentScreenSuccessful\n",
      "p-значение:  0.11456679313141849\n",
      "Не получилось отвергнуть нулевую гипотезу, нет оснований считать доли разными\n",
      "\n"
     ]
    }
   ],
   "source": [
    "# проводим z-тест циклом для каждого из событий воронки\n",
    "for ev in events:\n",
    "    z_test(ev, 246, 247)"
   ]
  },
  {
   "cell_type": "markdown",
   "id": "bf593e9c",
   "metadata": {},
   "source": [
    "По результатам проверки делаем вывод о том, что статистически достоверного отличия между группами А/А нет, а значит разбиение на группы работает корректно. "
   ]
  },
  {
   "cell_type": "markdown",
   "id": "aaeb12a8",
   "metadata": {
    "id": "aaeb12a8"
   },
   "source": [
    "### Проверка различия между группами А/А и B"
   ]
  },
  {
   "cell_type": "markdown",
   "id": "86ba619e",
   "metadata": {},
   "source": [
    "Аналогично поступим с группой с изменённым шрифтом (группа 248). Сравним результаты с каждой из контрольных групп (с 246 и с 247) в отдельности по каждому событию. \n",
    "\n",
    "Сформулируем гипотезы для каждого из событий воронки.\n",
    "\n",
    "H₀: в исследуемых группах доли пользователей, совершивших конкретно взятое событие воронки, равны. \\\n",
    "H₁: в исследуемых группах доли пользователей, совершивших конкретно взятое событие воронки, различаются."
   ]
  },
  {
   "cell_type": "markdown",
   "id": "ea784601",
   "metadata": {},
   "source": [
    "**Сравниваем группы 246 и 248**"
   ]
  },
  {
   "cell_type": "code",
   "execution_count": 41,
   "id": "b645d8d9",
   "metadata": {
    "scrolled": false
   },
   "outputs": [
    {
     "name": "stdout",
     "output_type": "stream",
     "text": [
      "Для события MainScreenAppear\n",
      "p-значение:  0.2949721933554552\n",
      "Не получилось отвергнуть нулевую гипотезу, нет оснований считать доли разными\n",
      "\n",
      "Для события OffersScreenAppear\n",
      "p-значение:  0.20836205402738917\n",
      "Не получилось отвергнуть нулевую гипотезу, нет оснований считать доли разными\n",
      "\n",
      "Для события CartScreenAppear\n",
      "p-значение:  0.07842923237520116\n",
      "Не получилось отвергнуть нулевую гипотезу, нет оснований считать доли разными\n",
      "\n",
      "Для события PaymentScreenSuccessful\n",
      "p-значение:  0.2122553275697796\n",
      "Не получилось отвергнуть нулевую гипотезу, нет оснований считать доли разными\n",
      "\n"
     ]
    }
   ],
   "source": [
    "for event in events:\n",
    "    z_test(event, 246, 248)"
   ]
  },
  {
   "cell_type": "markdown",
   "id": "f64a9eb6",
   "metadata": {},
   "source": [
    "**Сравниваем группы 247 и 248**"
   ]
  },
  {
   "cell_type": "code",
   "execution_count": 42,
   "id": "129f8c3d",
   "metadata": {
    "scrolled": false
   },
   "outputs": [
    {
     "name": "stdout",
     "output_type": "stream",
     "text": [
      "Для события MainScreenAppear\n",
      "p-значение:  0.4587053616621515\n",
      "Не получилось отвергнуть нулевую гипотезу, нет оснований считать доли разными\n",
      "\n",
      "Для события OffersScreenAppear\n",
      "p-значение:  0.9197817830592261\n",
      "Не получилось отвергнуть нулевую гипотезу, нет оснований считать доли разными\n",
      "\n",
      "Для события CartScreenAppear\n",
      "p-значение:  0.5786197879539783\n",
      "Не получилось отвергнуть нулевую гипотезу, нет оснований считать доли разными\n",
      "\n",
      "Для события PaymentScreenSuccessful\n",
      "p-значение:  0.7373415053803964\n",
      "Не получилось отвергнуть нулевую гипотезу, нет оснований считать доли разными\n",
      "\n"
     ]
    }
   ],
   "source": [
    "for event in events:\n",
    "    z_test(event, 247, 248)"
   ]
  },
  {
   "cell_type": "markdown",
   "id": "fb820a96",
   "metadata": {},
   "source": [
    "По итогам сравнения каждой из контрольных групп с экспериментальной видим, что при верной нулевой гипотезе почти на всех шагах воронки вероятность получить наблюдаемую разницу в долях довольно высокая, а значит не оснований отвергать нулевую гипотезу."
   ]
  },
  {
   "cell_type": "markdown",
   "id": "5f7ee7aa",
   "metadata": {},
   "source": [
    "**Теперь сравним экспериментальную группу с объединённой контрольной группой.**"
   ]
  },
  {
   "cell_type": "code",
   "execution_count": 43,
   "id": "98607d62",
   "metadata": {},
   "outputs": [],
   "source": [
    "# отдельная функция для сравнения объединённой группы (246+247) с группой 248\n",
    "def z_test_united_control_group(event):\n",
    "    \n",
    "    alpha = .05 # критический уровень статистической значимости\n",
    "\n",
    "    successes_1 = df.query('group == 246 | group == 247')\n",
    "    successes_1 = successes_1[successes_1['event_name'] == event]['user_id'].nunique()\n",
    "\n",
    "    successes_2 = df.query('group == 248')\n",
    "    successes_2 = successes_2[successes_2['event_name'] == event]['user_id'].nunique()\n",
    "\n",
    "    trials_1 = df.query('group == 246 | group == 247')['user_id'].nunique()\n",
    "    trials_2 = df[df['group'] == 248]['user_id'].nunique()\n",
    "\n",
    "    successes = np.array([successes_1, successes_2])\n",
    "    trials = np.array([trials_1, trials_2])\n",
    "\n",
    "    # пропорция успехов в первой группе:\n",
    "    p1 = successes[0]/trials[0]\n",
    "\n",
    "    # пропорция успехов во второй группе:\n",
    "    p2 = successes[1]/trials[1]\n",
    "\n",
    "    # пропорция успехов в комбинированном датасете:\n",
    "    p_combined = (successes[0] + successes[1]) / (trials[0] + trials[1])\n",
    "\n",
    "    # разница пропорций в датасетах\n",
    "    difference = p1 - p2 \n",
    "\n",
    "\n",
    "    # считаем статистику в ст.отклонениях стандартного нормального распределения\n",
    "    z_value = difference / mth.sqrt(\n",
    "    p_combined * (1 - p_combined) * (1 / trials[0] + 1 / trials[1])\n",
    "    )\n",
    "\n",
    "    # задаем стандартное нормальное распределение (среднее 0, ст.отклонение 1)\n",
    "    distr = st.norm(0, 1)\n",
    "\n",
    "    p_value = (1 - distr.cdf(abs(z_value))) * 2\n",
    "\n",
    "    print('Для события {}'.format(event))\n",
    "    print('p-значение: ', p_value)\n",
    "\n",
    "    if p_value < alpha:\n",
    "        print('Отвергаем нулевую гипотезу: между долями есть значимая разница')\n",
    "    else:\n",
    "        print(\n",
    "            'Не получилось отвергнуть нулевую гипотезу, нет оснований считать доли разными'\n",
    "        )\n",
    "    print()\n"
   ]
  },
  {
   "cell_type": "code",
   "execution_count": 44,
   "id": "3214f585",
   "metadata": {
    "scrolled": false
   },
   "outputs": [
    {
     "name": "stdout",
     "output_type": "stream",
     "text": [
      "Для события MainScreenAppear\n",
      "p-значение:  0.29424526837179577\n",
      "Не получилось отвергнуть нулевую гипотезу, нет оснований считать доли разными\n",
      "\n",
      "Для события OffersScreenAppear\n",
      "p-значение:  0.43425549655188256\n",
      "Не получилось отвергнуть нулевую гипотезу, нет оснований считать доли разными\n",
      "\n",
      "Для события CartScreenAppear\n",
      "p-значение:  0.18175875284404386\n",
      "Не получилось отвергнуть нулевую гипотезу, нет оснований считать доли разными\n",
      "\n",
      "Для события PaymentScreenSuccessful\n",
      "p-значение:  0.6004294282308704\n",
      "Не получилось отвергнуть нулевую гипотезу, нет оснований считать доли разными\n",
      "\n"
     ]
    }
   ],
   "source": [
    "for event in events:\n",
    "    z_test_united_control_group(event)"
   ]
  },
  {
   "cell_type": "markdown",
   "id": "78c16c98",
   "metadata": {},
   "source": [
    "Эта проверка также показала, что вероятность получить наблюдаемую разницу в долях - выше выбранного уровня значимости.\n",
    "\n",
    "Абсолютно все вышепроведённые проверки не дали оснований считать разными доли пользователей, совершивших каждый из шагов воронки. Это говорит о том, что дизайнерское изменение шрифтов в нашем приложении не привело к изменению конверсии: не улучшило, но и не ухудшило эту метрику."
   ]
  },
  {
   "cell_type": "markdown",
   "id": "0a723e2f",
   "metadata": {
    "id": "0a723e2f"
   },
   "source": [
    "### Уровень статистической значимости"
   ]
  },
  {
   "cell_type": "markdown",
   "id": "14cc6d5e",
   "metadata": {},
   "source": [
    "Изначально был выбран уровень статистической значимости в 5%.  Можно считать, что был проведён множественный тест, а значит растёт вероятность ошибки первого рода, когда отвергается верная нулевая гипотеза. Чтобы избежать такой ошибки можно было бы применить поправку Бонферрони, но ни один из тестов выше не предложил нам отвергнуть нулевую гипотезу. Поэтому если даже применить эту поправку (а именно поделить выбранный уровень статистической значимости на количество проверок: 0,05 / 16), результат не изменится, т.к. во всех проверках значение p-value было выше 5%. При таком уровне значимости, получить ложный результат можно каждый двадцатый раз."
   ]
  },
  {
   "cell_type": "markdown",
   "id": "b3357934",
   "metadata": {},
   "source": [
    "## Выводы и рекомендации"
   ]
  },
  {
   "cell_type": "markdown",
   "id": "c43a4288",
   "metadata": {},
   "source": [
    "В этом проекте перед нами стояла задача изучить воронку продаж, через которую проходят пользователи приложения, понять на каких шагах они \"застревают\", и сколько всего доходит до покупки. \\\n",
    "Также необходимо было проанализировать результаты проведённого А/А/В-тестирования и понять какой вариант лучше. Для экспериментальной группы здесь изменили шрифты в приложении. Понимание, как повлияло изменение шрифтов мы провели через сравнение конверсий на каждом шаге воронки внутри каждой группы пользователей.\n",
    "\n",
    "Для анализа использовался лог с информацией о том, в какой момент времени каждый пользователь был на конкретном экране приложения. Также была дана информация о том, к какой группе эксперимента принадлежат пользователи. \n",
    "Период имеющихся данных охватывал 2 недели, однако при первичном обзоре было выявлено, что данные за первую неделю неполные. Поэтому в анализ вошли данные только со второй недели.\n",
    "Также в логе имелись полностью дублирующиеся записи, дубли были удалены.\n",
    "\n",
    "По итогам анализа воронки продаж сделаны следующие выводы:\n",
    "\n",
    "* До оплаты доходят 47% пользователей от всех, зашедших в приложение.\n",
    "* Больше всего пользователей теряется на этапе перехода к экрану с предложением товара - до этого шага не доходят 38% пользователей, открывших главный экран. Здесь видится точка роста. \n",
    "\n",
    "Касательно А/А/В-эксперимента: он проведён успешно, разбиение на группы сработало корректно. По результатам тестирования было выявлено, что статистически значимых изменений в конверсии между экспериментальной и контрольными группами нет, т.е. изменение шрифтов не дало никаких значимых изменений - не улучшило метрику, но и не ухудшило.\n",
    "\n",
    "\n",
    "**Рекомендации**\n",
    "\n",
    "Нужно приложить усилия по привлечению пользователей на страницы с предложением товара/услуги, т.к. именно на этом этапе теряется самый большой процент пользователей по сравнению с другими шагами воронки. Нужно понять, что отталкивает клиента от дальнейшего пользования приложением после открытия главного экрана. Возможно стоит улучшить интерфейс главного экрана, сделать его более user-friendly. Или выяснить, нет ли багов в приложении при переходе на страницу с предложением товара. "
   ]
  }
 ],
 "metadata": {
  "ExecuteTimeLog": [
   {
    "duration": 1346,
    "start_time": "2022-06-06T16:47:20.161Z"
   },
   {
    "duration": 513,
    "start_time": "2022-06-06T16:47:21.509Z"
   },
   {
    "duration": 7,
    "start_time": "2022-06-06T16:47:22.023Z"
   },
   {
    "duration": 310,
    "start_time": "2022-06-06T16:47:22.032Z"
   },
   {
    "duration": 65,
    "start_time": "2022-06-06T16:47:22.344Z"
   },
   {
    "duration": 70,
    "start_time": "2022-06-06T16:47:22.411Z"
   },
   {
    "duration": 4,
    "start_time": "2022-06-06T16:47:22.483Z"
   },
   {
    "duration": 32,
    "start_time": "2022-06-06T16:47:22.488Z"
   },
   {
    "duration": 37,
    "start_time": "2022-06-06T16:47:22.522Z"
   },
   {
    "duration": 71,
    "start_time": "2022-06-06T16:47:22.562Z"
   },
   {
    "duration": 20,
    "start_time": "2022-06-06T16:47:22.635Z"
   },
   {
    "duration": 21,
    "start_time": "2022-06-06T16:47:22.657Z"
   },
   {
    "duration": 25,
    "start_time": "2022-06-06T16:47:22.680Z"
   },
   {
    "duration": 51,
    "start_time": "2022-06-06T16:47:22.706Z"
   },
   {
    "duration": 135,
    "start_time": "2022-06-06T16:47:22.759Z"
   },
   {
    "duration": 27,
    "start_time": "2022-06-06T16:47:22.896Z"
   },
   {
    "duration": 6,
    "start_time": "2022-06-06T16:47:22.926Z"
   },
   {
    "duration": 1030,
    "start_time": "2022-06-06T16:47:22.934Z"
   },
   {
    "duration": 39,
    "start_time": "2022-06-06T16:47:23.965Z"
   },
   {
    "duration": 6,
    "start_time": "2022-06-06T16:47:24.006Z"
   },
   {
    "duration": 29,
    "start_time": "2022-06-06T16:47:24.027Z"
   },
   {
    "duration": 13,
    "start_time": "2022-06-06T16:47:24.058Z"
   },
   {
    "duration": 13,
    "start_time": "2022-06-06T16:47:24.073Z"
   },
   {
    "duration": 11,
    "start_time": "2022-06-06T16:47:24.088Z"
   },
   {
    "duration": 56,
    "start_time": "2022-06-06T16:47:24.101Z"
   },
   {
    "duration": 25,
    "start_time": "2022-06-06T16:47:24.159Z"
   },
   {
    "duration": 177,
    "start_time": "2022-06-06T16:47:24.186Z"
   },
   {
    "duration": 66,
    "start_time": "2022-06-06T16:47:24.366Z"
   },
   {
    "duration": 161,
    "start_time": "2022-06-06T16:47:24.434Z"
   },
   {
    "duration": 14,
    "start_time": "2022-06-06T16:47:24.596Z"
   },
   {
    "duration": 124,
    "start_time": "2022-06-06T16:47:24.611Z"
   },
   {
    "duration": 520,
    "start_time": "2022-06-06T16:47:24.737Z"
   },
   {
    "duration": 36,
    "start_time": "2022-06-06T16:47:25.260Z"
   },
   {
    "duration": 131,
    "start_time": "2022-06-06T16:47:25.298Z"
   },
   {
    "duration": 4,
    "start_time": "2022-06-06T16:47:25.431Z"
   },
   {
    "duration": 8,
    "start_time": "2022-06-06T16:47:25.436Z"
   },
   {
    "duration": 22,
    "start_time": "2022-06-06T16:47:25.446Z"
   },
   {
    "duration": 165,
    "start_time": "2022-06-06T16:47:25.469Z"
   },
   {
    "duration": 152,
    "start_time": "2022-06-06T16:47:25.636Z"
   },
   {
    "duration": 153,
    "start_time": "2022-06-06T16:47:25.789Z"
   },
   {
    "duration": 6,
    "start_time": "2022-06-06T16:47:25.944Z"
   },
   {
    "duration": 238,
    "start_time": "2022-06-06T16:47:25.951Z"
   },
   {
    "duration": 29,
    "start_time": "2022-06-06T16:49:13.122Z"
   },
   {
    "duration": 12,
    "start_time": "2022-06-06T16:55:10.884Z"
   },
   {
    "duration": 13,
    "start_time": "2022-06-06T16:55:20.318Z"
   },
   {
    "duration": 13,
    "start_time": "2022-06-06T17:00:22.864Z"
   },
   {
    "duration": 13,
    "start_time": "2022-06-06T17:00:30.601Z"
   },
   {
    "duration": 13,
    "start_time": "2022-06-06T17:00:57.674Z"
   },
   {
    "duration": 13,
    "start_time": "2022-06-06T17:00:59.571Z"
   },
   {
    "duration": 13,
    "start_time": "2022-06-06T17:01:38.401Z"
   },
   {
    "duration": 10,
    "start_time": "2022-06-06T17:01:54.871Z"
   },
   {
    "duration": 5,
    "start_time": "2022-06-06T17:02:01.000Z"
   },
   {
    "duration": 36,
    "start_time": "2022-06-06T17:04:10.822Z"
   },
   {
    "duration": 38,
    "start_time": "2022-06-06T17:06:42.259Z"
   },
   {
    "duration": 38,
    "start_time": "2022-06-06T17:10:45.086Z"
   },
   {
    "duration": 46,
    "start_time": "2022-06-06T17:12:09.908Z"
   },
   {
    "duration": 26,
    "start_time": "2022-06-06T17:13:21.087Z"
   },
   {
    "duration": 32,
    "start_time": "2022-06-06T17:13:51.190Z"
   },
   {
    "duration": 42,
    "start_time": "2022-06-06T17:18:39.902Z"
   },
   {
    "duration": 22,
    "start_time": "2022-06-06T18:32:26.586Z"
   },
   {
    "duration": 100,
    "start_time": "2022-06-06T18:32:28.670Z"
   },
   {
    "duration": 2429,
    "start_time": "2022-06-06T18:32:34.898Z"
   },
   {
    "duration": 1719,
    "start_time": "2022-06-06T18:32:37.335Z"
   },
   {
    "duration": 8,
    "start_time": "2022-06-06T18:32:39.056Z"
   },
   {
    "duration": 739,
    "start_time": "2022-06-06T18:32:39.067Z"
   },
   {
    "duration": 107,
    "start_time": "2022-06-06T18:32:39.812Z"
   },
   {
    "duration": 151,
    "start_time": "2022-06-06T18:32:39.925Z"
   },
   {
    "duration": 22,
    "start_time": "2022-06-06T18:32:40.084Z"
   },
   {
    "duration": 118,
    "start_time": "2022-06-06T18:32:40.112Z"
   },
   {
    "duration": 66,
    "start_time": "2022-06-06T18:32:40.234Z"
   },
   {
    "duration": 208,
    "start_time": "2022-06-06T18:32:40.308Z"
   },
   {
    "duration": 40,
    "start_time": "2022-06-06T18:32:40.522Z"
   },
   {
    "duration": 44,
    "start_time": "2022-06-06T18:32:40.569Z"
   },
   {
    "duration": 71,
    "start_time": "2022-06-06T18:32:40.621Z"
   },
   {
    "duration": 86,
    "start_time": "2022-06-06T18:32:40.699Z"
   },
   {
    "duration": 205,
    "start_time": "2022-06-06T18:32:40.787Z"
   },
   {
    "duration": 56,
    "start_time": "2022-06-06T18:32:40.998Z"
   },
   {
    "duration": 66,
    "start_time": "2022-06-06T18:32:41.061Z"
   },
   {
    "duration": 1789,
    "start_time": "2022-06-06T18:32:41.133Z"
   },
   {
    "duration": 109,
    "start_time": "2022-06-06T18:32:42.929Z"
   },
   {
    "duration": 62,
    "start_time": "2022-06-06T18:32:43.048Z"
   },
   {
    "duration": 63,
    "start_time": "2022-06-06T18:32:43.115Z"
   },
   {
    "duration": 188,
    "start_time": "2022-06-06T18:32:43.184Z"
   },
   {
    "duration": 104,
    "start_time": "2022-06-06T18:32:43.378Z"
   },
   {
    "duration": 36,
    "start_time": "2022-06-06T18:32:43.492Z"
   },
   {
    "duration": 147,
    "start_time": "2022-06-06T18:32:43.535Z"
   },
   {
    "duration": 59,
    "start_time": "2022-06-06T18:32:43.685Z"
   },
   {
    "duration": 357,
    "start_time": "2022-06-06T18:32:43.747Z"
   },
   {
    "duration": 157,
    "start_time": "2022-06-06T18:32:44.110Z"
   },
   {
    "duration": 283,
    "start_time": "2022-06-06T18:32:44.270Z"
   },
   {
    "duration": 29,
    "start_time": "2022-06-06T18:32:44.555Z"
   },
   {
    "duration": 344,
    "start_time": "2022-06-06T18:32:44.587Z"
   },
   {
    "duration": 910,
    "start_time": "2022-06-06T18:32:44.936Z"
   },
   {
    "duration": 52,
    "start_time": "2022-06-06T18:32:45.848Z"
   },
   {
    "duration": 263,
    "start_time": "2022-06-06T18:32:45.901Z"
   },
   {
    "duration": 7,
    "start_time": "2022-06-06T18:32:46.168Z"
   },
   {
    "duration": 102,
    "start_time": "2022-06-06T18:32:46.177Z"
   },
   {
    "duration": 95,
    "start_time": "2022-06-06T18:32:46.285Z"
   },
   {
    "duration": 349,
    "start_time": "2022-06-06T18:32:46.386Z"
   },
   {
    "duration": 281,
    "start_time": "2022-06-06T18:32:46.737Z"
   },
   {
    "duration": 258,
    "start_time": "2022-06-06T18:32:47.031Z"
   },
   {
    "duration": 15,
    "start_time": "2022-06-06T18:32:47.291Z"
   },
   {
    "duration": 500,
    "start_time": "2022-06-06T18:32:47.308Z"
   },
   {
    "duration": 8,
    "start_time": "2022-06-06T18:34:20.093Z"
   },
   {
    "duration": 437,
    "start_time": "2022-06-06T18:34:22.884Z"
   },
   {
    "duration": 6,
    "start_time": "2022-06-06T18:34:52.109Z"
   },
   {
    "duration": 282,
    "start_time": "2022-06-06T18:34:52.222Z"
   },
   {
    "duration": 6,
    "start_time": "2022-06-06T18:34:52.506Z"
   },
   {
    "duration": 253,
    "start_time": "2022-06-06T18:34:55.290Z"
   },
   {
    "duration": 7,
    "start_time": "2022-06-06T18:35:11.780Z"
   },
   {
    "duration": 209,
    "start_time": "2022-06-06T18:35:14.762Z"
   },
   {
    "duration": 12,
    "start_time": "2022-06-06T18:45:41.654Z"
   },
   {
    "duration": 13,
    "start_time": "2022-06-06T18:45:49.272Z"
   },
   {
    "duration": 339,
    "start_time": "2022-06-06T18:45:49.289Z"
   },
   {
    "duration": 9,
    "start_time": "2022-06-06T18:45:49.635Z"
   },
   {
    "duration": 268,
    "start_time": "2022-06-06T18:45:49.650Z"
   },
   {
    "duration": 126,
    "start_time": "2022-06-06T18:45:49.925Z"
   },
   {
    "duration": 87,
    "start_time": "2022-06-06T18:45:50.061Z"
   },
   {
    "duration": 5,
    "start_time": "2022-06-06T18:46:04.455Z"
   },
   {
    "duration": 112,
    "start_time": "2022-06-06T19:03:29.737Z"
   },
   {
    "duration": 119,
    "start_time": "2022-06-06T19:03:35.019Z"
   },
   {
    "duration": 131,
    "start_time": "2022-06-06T19:03:39.110Z"
   },
   {
    "duration": 157,
    "start_time": "2022-06-06T19:03:52.870Z"
   },
   {
    "duration": 101,
    "start_time": "2022-06-06T19:08:54.777Z"
   },
   {
    "duration": 130,
    "start_time": "2022-06-06T19:09:05.043Z"
   },
   {
    "duration": 58,
    "start_time": "2022-06-07T03:42:03.072Z"
   },
   {
    "duration": 1386,
    "start_time": "2022-06-07T03:42:11.030Z"
   },
   {
    "duration": 555,
    "start_time": "2022-06-07T03:42:12.418Z"
   },
   {
    "duration": 5,
    "start_time": "2022-06-07T03:42:12.975Z"
   },
   {
    "duration": 282,
    "start_time": "2022-06-07T03:42:12.983Z"
   },
   {
    "duration": 56,
    "start_time": "2022-06-07T03:42:13.267Z"
   },
   {
    "duration": 69,
    "start_time": "2022-06-07T03:42:13.324Z"
   },
   {
    "duration": 4,
    "start_time": "2022-06-07T03:42:13.395Z"
   },
   {
    "duration": 16,
    "start_time": "2022-06-07T03:42:13.400Z"
   },
   {
    "duration": 24,
    "start_time": "2022-06-07T03:42:13.418Z"
   },
   {
    "duration": 83,
    "start_time": "2022-06-07T03:42:13.445Z"
   },
   {
    "duration": 30,
    "start_time": "2022-06-07T03:42:13.529Z"
   },
   {
    "duration": 6,
    "start_time": "2022-06-07T03:42:13.561Z"
   },
   {
    "duration": 13,
    "start_time": "2022-06-07T03:42:13.569Z"
   },
   {
    "duration": 25,
    "start_time": "2022-06-07T03:42:13.584Z"
   },
   {
    "duration": 138,
    "start_time": "2022-06-07T03:42:13.610Z"
   },
   {
    "duration": 31,
    "start_time": "2022-06-07T03:42:13.750Z"
   },
   {
    "duration": 5,
    "start_time": "2022-06-07T03:42:13.783Z"
   },
   {
    "duration": 1038,
    "start_time": "2022-06-07T03:42:13.790Z"
   },
   {
    "duration": 46,
    "start_time": "2022-06-07T03:42:14.830Z"
   },
   {
    "duration": 6,
    "start_time": "2022-06-07T03:42:14.877Z"
   },
   {
    "duration": 26,
    "start_time": "2022-06-07T03:42:14.884Z"
   },
   {
    "duration": 8,
    "start_time": "2022-06-07T03:42:14.912Z"
   },
   {
    "duration": 34,
    "start_time": "2022-06-07T03:42:14.922Z"
   },
   {
    "duration": 26,
    "start_time": "2022-06-07T03:42:14.957Z"
   },
   {
    "duration": 51,
    "start_time": "2022-06-07T03:42:14.984Z"
   },
   {
    "duration": 28,
    "start_time": "2022-06-07T03:42:15.037Z"
   },
   {
    "duration": 164,
    "start_time": "2022-06-07T03:42:15.067Z"
   },
   {
    "duration": 67,
    "start_time": "2022-06-07T03:42:15.233Z"
   },
   {
    "duration": 161,
    "start_time": "2022-06-07T03:42:15.301Z"
   },
   {
    "duration": 14,
    "start_time": "2022-06-07T03:42:15.464Z"
   },
   {
    "duration": 132,
    "start_time": "2022-06-07T03:42:15.480Z"
   },
   {
    "duration": 545,
    "start_time": "2022-06-07T03:42:15.614Z"
   },
   {
    "duration": 34,
    "start_time": "2022-06-07T03:42:16.161Z"
   },
   {
    "duration": 135,
    "start_time": "2022-06-07T03:42:16.197Z"
   },
   {
    "duration": 4,
    "start_time": "2022-06-07T03:42:16.333Z"
   },
   {
    "duration": 25,
    "start_time": "2022-06-07T03:42:16.339Z"
   },
   {
    "duration": 49,
    "start_time": "2022-06-07T03:42:16.366Z"
   },
   {
    "duration": 161,
    "start_time": "2022-06-07T03:42:16.416Z"
   },
   {
    "duration": 170,
    "start_time": "2022-06-07T03:42:16.579Z"
   },
   {
    "duration": 166,
    "start_time": "2022-06-07T03:42:16.758Z"
   },
   {
    "duration": 6,
    "start_time": "2022-06-07T03:42:16.926Z"
   },
   {
    "duration": 257,
    "start_time": "2022-06-07T03:42:16.934Z"
   },
   {
    "duration": 3,
    "start_time": "2022-06-07T03:43:01.620Z"
   },
   {
    "duration": 14,
    "start_time": "2022-06-07T03:44:28.463Z"
   },
   {
    "duration": 14,
    "start_time": "2022-06-07T03:44:44.745Z"
   },
   {
    "duration": 15,
    "start_time": "2022-06-07T03:49:10.967Z"
   },
   {
    "duration": 15,
    "start_time": "2022-06-07T03:49:18.834Z"
   },
   {
    "duration": 1247,
    "start_time": "2022-06-07T03:49:28.935Z"
   },
   {
    "duration": 193,
    "start_time": "2022-06-07T03:49:30.185Z"
   },
   {
    "duration": 6,
    "start_time": "2022-06-07T03:49:30.379Z"
   },
   {
    "duration": 333,
    "start_time": "2022-06-07T03:49:30.388Z"
   },
   {
    "duration": 81,
    "start_time": "2022-06-07T03:49:30.723Z"
   },
   {
    "duration": 75,
    "start_time": "2022-06-07T03:49:30.806Z"
   },
   {
    "duration": 4,
    "start_time": "2022-06-07T03:49:30.883Z"
   },
   {
    "duration": 39,
    "start_time": "2022-06-07T03:49:30.889Z"
   },
   {
    "duration": 40,
    "start_time": "2022-06-07T03:49:30.930Z"
   },
   {
    "duration": 132,
    "start_time": "2022-06-07T03:49:30.974Z"
   },
   {
    "duration": 42,
    "start_time": "2022-06-07T03:49:31.108Z"
   },
   {
    "duration": 42,
    "start_time": "2022-06-07T03:49:31.152Z"
   },
   {
    "duration": 22,
    "start_time": "2022-06-07T03:49:31.196Z"
   },
   {
    "duration": 68,
    "start_time": "2022-06-07T03:49:31.220Z"
   },
   {
    "duration": 125,
    "start_time": "2022-06-07T03:49:31.290Z"
   },
   {
    "duration": 29,
    "start_time": "2022-06-07T03:49:31.417Z"
   },
   {
    "duration": 53,
    "start_time": "2022-06-07T03:49:31.448Z"
   },
   {
    "duration": 1080,
    "start_time": "2022-06-07T03:49:31.503Z"
   },
   {
    "duration": 41,
    "start_time": "2022-06-07T03:49:32.585Z"
   },
   {
    "duration": 6,
    "start_time": "2022-06-07T03:49:32.628Z"
   },
   {
    "duration": 24,
    "start_time": "2022-06-07T03:49:32.658Z"
   },
   {
    "duration": 11,
    "start_time": "2022-06-07T03:49:32.684Z"
   },
   {
    "duration": 20,
    "start_time": "2022-06-07T03:49:32.697Z"
   },
   {
    "duration": 8,
    "start_time": "2022-06-07T03:49:32.719Z"
   },
   {
    "duration": 11,
    "start_time": "2022-06-07T03:49:32.729Z"
   },
   {
    "duration": 59,
    "start_time": "2022-06-07T03:49:32.759Z"
   },
   {
    "duration": 27,
    "start_time": "2022-06-07T03:49:32.819Z"
   },
   {
    "duration": 180,
    "start_time": "2022-06-07T03:49:32.850Z"
   },
   {
    "duration": 78,
    "start_time": "2022-06-07T03:49:33.032Z"
   },
   {
    "duration": 168,
    "start_time": "2022-06-07T03:49:33.112Z"
   },
   {
    "duration": 15,
    "start_time": "2022-06-07T03:49:33.281Z"
   },
   {
    "duration": 135,
    "start_time": "2022-06-07T03:49:33.298Z"
   },
   {
    "duration": 481,
    "start_time": "2022-06-07T03:49:33.435Z"
   },
   {
    "duration": 41,
    "start_time": "2022-06-07T03:49:33.918Z"
   },
   {
    "duration": 124,
    "start_time": "2022-06-07T03:49:33.961Z"
   },
   {
    "duration": 4,
    "start_time": "2022-06-07T03:49:34.087Z"
   },
   {
    "duration": 24,
    "start_time": "2022-06-07T03:49:34.092Z"
   },
   {
    "duration": 32,
    "start_time": "2022-06-07T03:49:34.118Z"
   },
   {
    "duration": 154,
    "start_time": "2022-06-07T03:49:34.152Z"
   },
   {
    "duration": 159,
    "start_time": "2022-06-07T03:49:34.308Z"
   },
   {
    "duration": 161,
    "start_time": "2022-06-07T03:49:34.469Z"
   },
   {
    "duration": 7,
    "start_time": "2022-06-07T03:49:34.631Z"
   },
   {
    "duration": 246,
    "start_time": "2022-06-07T03:49:34.639Z"
   },
   {
    "duration": 4,
    "start_time": "2022-06-07T03:49:48.655Z"
   },
   {
    "duration": 14,
    "start_time": "2022-06-07T03:50:00.845Z"
   },
   {
    "duration": 14,
    "start_time": "2022-06-07T03:50:14.010Z"
   },
   {
    "duration": 20,
    "start_time": "2022-06-07T03:50:27.513Z"
   },
   {
    "duration": 28,
    "start_time": "2022-06-07T03:50:35.238Z"
   },
   {
    "duration": 34,
    "start_time": "2022-06-07T03:50:58.746Z"
   },
   {
    "duration": 26,
    "start_time": "2022-06-07T03:51:03.867Z"
   },
   {
    "duration": 137,
    "start_time": "2022-06-07T03:51:25.868Z"
   },
   {
    "duration": 26,
    "start_time": "2022-06-07T03:51:33.605Z"
   },
   {
    "duration": 19,
    "start_time": "2022-06-07T03:51:51.542Z"
   },
   {
    "duration": 26,
    "start_time": "2022-06-07T03:59:13.748Z"
   },
   {
    "duration": 23,
    "start_time": "2022-06-07T04:00:59.951Z"
   },
   {
    "duration": 119,
    "start_time": "2022-06-07T04:01:09.509Z"
   },
   {
    "duration": 129,
    "start_time": "2022-06-07T04:01:22.458Z"
   },
   {
    "duration": 120,
    "start_time": "2022-06-07T04:01:29.907Z"
   },
   {
    "duration": 1238,
    "start_time": "2022-06-07T04:11:56.449Z"
   },
   {
    "duration": 161,
    "start_time": "2022-06-07T04:11:57.689Z"
   },
   {
    "duration": 6,
    "start_time": "2022-06-07T04:11:57.852Z"
   },
   {
    "duration": 313,
    "start_time": "2022-06-07T04:11:57.860Z"
   },
   {
    "duration": 59,
    "start_time": "2022-06-07T04:11:58.174Z"
   },
   {
    "duration": 73,
    "start_time": "2022-06-07T04:11:58.235Z"
   },
   {
    "duration": 20,
    "start_time": "2022-06-07T04:11:58.310Z"
   },
   {
    "duration": 10,
    "start_time": "2022-06-07T04:11:58.334Z"
   },
   {
    "duration": 24,
    "start_time": "2022-06-07T04:11:58.346Z"
   },
   {
    "duration": 90,
    "start_time": "2022-06-07T04:11:58.374Z"
   },
   {
    "duration": 24,
    "start_time": "2022-06-07T04:11:58.466Z"
   },
   {
    "duration": 16,
    "start_time": "2022-06-07T04:11:58.493Z"
   },
   {
    "duration": 34,
    "start_time": "2022-06-07T04:11:58.511Z"
   },
   {
    "duration": 38,
    "start_time": "2022-06-07T04:11:58.548Z"
   },
   {
    "duration": 119,
    "start_time": "2022-06-07T04:11:58.587Z"
   },
   {
    "duration": 30,
    "start_time": "2022-06-07T04:11:58.708Z"
   },
   {
    "duration": 34,
    "start_time": "2022-06-07T04:11:58.740Z"
   },
   {
    "duration": 1063,
    "start_time": "2022-06-07T04:11:58.776Z"
   },
   {
    "duration": 50,
    "start_time": "2022-06-07T04:11:59.841Z"
   },
   {
    "duration": 7,
    "start_time": "2022-06-07T04:11:59.893Z"
   },
   {
    "duration": 23,
    "start_time": "2022-06-07T04:11:59.902Z"
   },
   {
    "duration": 20,
    "start_time": "2022-06-07T04:11:59.927Z"
   },
   {
    "duration": 42,
    "start_time": "2022-06-07T04:11:59.949Z"
   },
   {
    "duration": 7,
    "start_time": "2022-06-07T04:11:59.992Z"
   },
   {
    "duration": 51,
    "start_time": "2022-06-07T04:12:00.001Z"
   },
   {
    "duration": 41,
    "start_time": "2022-06-07T04:12:00.054Z"
   },
   {
    "duration": 187,
    "start_time": "2022-06-07T04:12:00.097Z"
   },
   {
    "duration": 105,
    "start_time": "2022-06-07T04:12:00.288Z"
   },
   {
    "duration": 173,
    "start_time": "2022-06-07T04:12:00.395Z"
   },
   {
    "duration": 22,
    "start_time": "2022-06-07T04:12:00.570Z"
   },
   {
    "duration": 134,
    "start_time": "2022-06-07T04:12:00.595Z"
   },
   {
    "duration": 582,
    "start_time": "2022-06-07T04:12:00.731Z"
   },
   {
    "duration": 44,
    "start_time": "2022-06-07T04:12:01.315Z"
   },
   {
    "duration": 169,
    "start_time": "2022-06-07T04:12:01.361Z"
   },
   {
    "duration": 4,
    "start_time": "2022-06-07T04:12:01.532Z"
   },
   {
    "duration": 34,
    "start_time": "2022-06-07T04:12:01.538Z"
   },
   {
    "duration": 57,
    "start_time": "2022-06-07T04:12:01.574Z"
   },
   {
    "duration": 265,
    "start_time": "2022-06-07T04:12:01.633Z"
   },
   {
    "duration": 195,
    "start_time": "2022-06-07T04:12:01.901Z"
   },
   {
    "duration": 179,
    "start_time": "2022-06-07T04:12:02.098Z"
   },
   {
    "duration": 7,
    "start_time": "2022-06-07T04:12:02.279Z"
   },
   {
    "duration": 250,
    "start_time": "2022-06-07T04:12:02.288Z"
   },
   {
    "duration": 64,
    "start_time": "2022-06-07T11:44:09.348Z"
   },
   {
    "duration": 30,
    "start_time": "2022-06-07T11:45:20.114Z"
   }
  ],
  "colab": {
   "collapsed_sections": [
    "08f00f01",
    "75fa5b69",
    "18e83128",
    "70282107",
    "5621f5f7",
    "f8f4a133",
    "18bc0d70",
    "aaeb12a8",
    "0a723e2f"
   ],
   "name": "SBORNY PROJECT NO 2.ipynb",
   "provenance": [],
   "toc_visible": true
  },
  "kernelspec": {
   "display_name": "Python 3 (ipykernel)",
   "language": "python",
   "name": "python3"
  },
  "language_info": {
   "codemirror_mode": {
    "name": "ipython",
    "version": 3
   },
   "file_extension": ".py",
   "mimetype": "text/x-python",
   "name": "python",
   "nbconvert_exporter": "python",
   "pygments_lexer": "ipython3",
   "version": "3.9.7"
  },
  "toc": {
   "base_numbering": 1,
   "nav_menu": {},
   "number_sections": true,
   "sideBar": true,
   "skip_h1_title": true,
   "title_cell": "Table of Contents",
   "title_sidebar": "Contents",
   "toc_cell": true,
   "toc_position": {
    "height": "calc(100% - 180px)",
    "left": "10px",
    "top": "150px",
    "width": "165px"
   },
   "toc_section_display": true,
   "toc_window_display": true
  }
 },
 "nbformat": 4,
 "nbformat_minor": 5
}
